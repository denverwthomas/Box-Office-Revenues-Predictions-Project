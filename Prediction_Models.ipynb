{
 "cells": [
  {
   "cell_type": "code",
   "execution_count": 1,
   "metadata": {},
   "outputs": [
    {
     "data": {
      "text/html": [
       "<script>\n",
       "code_show=true; \n",
       "function code_toggle() {\n",
       " if (code_show){\n",
       " $('div.input').hide();\n",
       " } else {\n",
       " $('div.input').show();\n",
       " }\n",
       " code_show = !code_show\n",
       "} \n",
       "$( document ).ready(code_toggle);\n",
       "</script>\n",
       "<form action=\"javascript:code_toggle()\"><input type=\"submit\" value=\"Click here to toggle on/off the raw code.\"></form>"
      ],
      "text/plain": [
       "<IPython.core.display.HTML object>"
      ]
     },
     "execution_count": 1,
     "metadata": {},
     "output_type": "execute_result"
    }
   ],
   "source": [
    "from IPython.display import HTML\n",
    "\n",
    "HTML('''<script>\n",
    "code_show=true; \n",
    "function code_toggle() {\n",
    " if (code_show){\n",
    " $('div.input').hide();\n",
    " } else {\n",
    " $('div.input').show();\n",
    " }\n",
    " code_show = !code_show\n",
    "} \n",
    "$( document ).ready(code_toggle);\n",
    "</script>\n",
    "<form action=\"javascript:code_toggle()\"><input type=\"submit\" value=\"Click here to toggle on/off the raw code.\"></form>''')"
   ]
  },
  {
   "cell_type": "markdown",
   "metadata": {},
   "source": [
    "# Notebook 5: Prediction Models\n",
    "In this Notebook, we do predicitons on internal, external, and mixed features."
   ]
  },
  {
   "cell_type": "markdown",
   "metadata": {},
   "source": [
    "<h1>Import Data"
   ]
  },
  {
   "cell_type": "code",
   "execution_count": 273,
   "metadata": {
    "scrolled": false
   },
   "outputs": [
    {
     "data": {
      "text/plain": [
       "(7723, 20)"
      ]
     },
     "execution_count": 273,
     "metadata": {},
     "output_type": "execute_result"
    }
   ],
   "source": [
    "import pandas as pd\n",
    "import numpy as np\n",
    "import matplotlib.pyplot as plt\n",
    "%matplotlib inline\n",
    "movies=pd.read_csv('Models_data/movies.csv')\n",
    "movies.shape"
   ]
  },
  {
   "cell_type": "markdown",
   "metadata": {},
   "source": [
    "<h3>Change the columns "
   ]
  },
  {
   "cell_type": "markdown",
   "metadata": {},
   "source": [
    "<li>We change date string to datetime object, and then adjust gross using PPI at the release date of movies;\n",
    "<li>All movies are sorted by release date in increasing order."
   ]
  },
  {
   "cell_type": "code",
   "execution_count": 274,
   "metadata": {},
   "outputs": [],
   "source": [
    "movies['release date']=movies['release date'].apply(lambda x: pd.to_datetime(x))"
   ]
  },
  {
   "cell_type": "code",
   "execution_count": 275,
   "metadata": {
    "scrolled": false
   },
   "outputs": [
    {
     "data": {
      "text/html": [
       "<div>\n",
       "<style scoped>\n",
       "    .dataframe tbody tr th:only-of-type {\n",
       "        vertical-align: middle;\n",
       "    }\n",
       "\n",
       "    .dataframe tbody tr th {\n",
       "        vertical-align: top;\n",
       "    }\n",
       "\n",
       "    .dataframe thead th {\n",
       "        text-align: right;\n",
       "    }\n",
       "</style>\n",
       "<table border=\"1\" class=\"dataframe\">\n",
       "  <thead>\n",
       "    <tr style=\"text-align: right;\">\n",
       "      <th></th>\n",
       "      <th>Unnamed: 0</th>\n",
       "      <th>title</th>\n",
       "      <th>imdb id</th>\n",
       "      <th>runtime</th>\n",
       "      <th>genre</th>\n",
       "      <th>rate</th>\n",
       "      <th>rating count</th>\n",
       "      <th>country</th>\n",
       "      <th>language</th>\n",
       "      <th>release date</th>\n",
       "      <th>budget</th>\n",
       "      <th>gross usa</th>\n",
       "      <th>cumulative worldwide gross</th>\n",
       "      <th>director</th>\n",
       "      <th>writer</th>\n",
       "      <th>cast</th>\n",
       "      <th>production company</th>\n",
       "      <th>budget_PPI</th>\n",
       "      <th>gross_usa_PPI</th>\n",
       "      <th>cumulative_worldwide_gross_PPI</th>\n",
       "    </tr>\n",
       "  </thead>\n",
       "  <tbody>\n",
       "    <tr>\n",
       "      <th>462</th>\n",
       "      <td>462</td>\n",
       "      <td>The Best Years of Our Lives</td>\n",
       "      <td>tt0036868</td>\n",
       "      <td>170</td>\n",
       "      <td>['Drama', 'Romance', 'War']</td>\n",
       "      <td>8.0</td>\n",
       "      <td>54247.0</td>\n",
       "      <td>['USA']</td>\n",
       "      <td>['English']</td>\n",
       "      <td>1947-05-29</td>\n",
       "      <td>2100000.0</td>\n",
       "      <td>23650000.0</td>\n",
       "      <td>23656620.0</td>\n",
       "      <td>['nm0943758']</td>\n",
       "      <td>['nm0792845', 'nm0437969']</td>\n",
       "      <td>['nm0001485', 'nm0545298', 'nm0000763', 'nm094...</td>\n",
       "      <td>['co0016710']</td>\n",
       "      <td>0.125945</td>\n",
       "      <td>0.125945</td>\n",
       "      <td>0.125945</td>\n",
       "    </tr>\n",
       "    <tr>\n",
       "      <th>463</th>\n",
       "      <td>463</td>\n",
       "      <td>Duel in the Sun</td>\n",
       "      <td>tt0038499</td>\n",
       "      <td>129</td>\n",
       "      <td>['Drama', 'Romance', 'Western']</td>\n",
       "      <td>6.8</td>\n",
       "      <td>7572.0</td>\n",
       "      <td>['USA']</td>\n",
       "      <td>['English']</td>\n",
       "      <td>1947-09-12</td>\n",
       "      <td>8000000.0</td>\n",
       "      <td>20408163.0</td>\n",
       "      <td>20428771.0</td>\n",
       "      <td>['nm0896542', 'nm0112897', 'nm0226189', 'nm029...</td>\n",
       "      <td>['nm0006388', 'nm0124002', 'nm0308177', 'nm037...</td>\n",
       "      <td>['nm0428354', 'nm0001072', 'nm0000060', 'nm000...</td>\n",
       "      <td>['co0130901', 'co0005025']</td>\n",
       "      <td>0.132997</td>\n",
       "      <td>0.132997</td>\n",
       "      <td>0.132997</td>\n",
       "    </tr>\n",
       "    <tr>\n",
       "      <th>2168</th>\n",
       "      <td>2168</td>\n",
       "      <td>Monsieur Verdoux</td>\n",
       "      <td>tt0039631</td>\n",
       "      <td>124</td>\n",
       "      <td>['Comedy', 'Crime', 'Drama']</td>\n",
       "      <td>7.9</td>\n",
       "      <td>14502.0</td>\n",
       "      <td>['USA']</td>\n",
       "      <td>['English']</td>\n",
       "      <td>1947-12-08</td>\n",
       "      <td>2000000.0</td>\n",
       "      <td>64636.0</td>\n",
       "      <td>64636.0</td>\n",
       "      <td>['nm0000122']</td>\n",
       "      <td>['nm0000122', 'nm0000080']</td>\n",
       "      <td>['nm0000122', 'nm0180900', 'nm0734467', 'nm050...</td>\n",
       "      <td>['co0028083']</td>\n",
       "      <td>0.139547</td>\n",
       "      <td>0.139547</td>\n",
       "      <td>0.139547</td>\n",
       "    </tr>\n",
       "    <tr>\n",
       "      <th>7722</th>\n",
       "      <td>7722</td>\n",
       "      <td>The Treasure of the Sierra Madre</td>\n",
       "      <td>tt0040897</td>\n",
       "      <td>126</td>\n",
       "      <td>['Adventure', 'Drama', 'Western']</td>\n",
       "      <td>8.2</td>\n",
       "      <td>106113.0</td>\n",
       "      <td>['USA', 'Mexico']</td>\n",
       "      <td>['English', 'Spanish']</td>\n",
       "      <td>1948-01-24</td>\n",
       "      <td>3000000.0</td>\n",
       "      <td>215295.0</td>\n",
       "      <td>215295.0</td>\n",
       "      <td>['nm0001379']</td>\n",
       "      <td>['nm0001379', 'nm0871252']</td>\n",
       "      <td>['nm0000007', 'nm0404158', 'nm0392529', 'nm007...</td>\n",
       "      <td>['co0002663']</td>\n",
       "      <td>0.137028</td>\n",
       "      <td>0.137028</td>\n",
       "      <td>0.137028</td>\n",
       "    </tr>\n",
       "    <tr>\n",
       "      <th>7158</th>\n",
       "      <td>7158</td>\n",
       "      <td>Bicycle Thieves</td>\n",
       "      <td>tt0040522</td>\n",
       "      <td>89</td>\n",
       "      <td>['Drama']</td>\n",
       "      <td>8.3</td>\n",
       "      <td>132278.0</td>\n",
       "      <td>['Italy']</td>\n",
       "      <td>['Italian', 'English']</td>\n",
       "      <td>1949-12-13</td>\n",
       "      <td>133000.0</td>\n",
       "      <td>371111.0</td>\n",
       "      <td>428978.0</td>\n",
       "      <td>['nm0001120']</td>\n",
       "      <td>['nm0953790', 'nm0059030', 'nm0080755', 'nm014...</td>\n",
       "      <td>['nm0536009', 'nm0821543', 'nm0136794', 'nm002...</td>\n",
       "      <td>['co0534951', 'co0072996']</td>\n",
       "      <td>0.130479</td>\n",
       "      <td>0.130479</td>\n",
       "      <td>0.130479</td>\n",
       "    </tr>\n",
       "  </tbody>\n",
       "</table>\n",
       "</div>"
      ],
      "text/plain": [
       "      Unnamed: 0                             title    imdb id  runtime  \\\n",
       "462          462       The Best Years of Our Lives  tt0036868      170   \n",
       "463          463                   Duel in the Sun  tt0038499      129   \n",
       "2168        2168                  Monsieur Verdoux  tt0039631      124   \n",
       "7722        7722  The Treasure of the Sierra Madre  tt0040897      126   \n",
       "7158        7158                   Bicycle Thieves  tt0040522       89   \n",
       "\n",
       "                                  genre  rate  rating count  \\\n",
       "462         ['Drama', 'Romance', 'War']   8.0       54247.0   \n",
       "463     ['Drama', 'Romance', 'Western']   6.8        7572.0   \n",
       "2168       ['Comedy', 'Crime', 'Drama']   7.9       14502.0   \n",
       "7722  ['Adventure', 'Drama', 'Western']   8.2      106113.0   \n",
       "7158                          ['Drama']   8.3      132278.0   \n",
       "\n",
       "                country                language release date     budget  \\\n",
       "462             ['USA']             ['English']   1947-05-29  2100000.0   \n",
       "463             ['USA']             ['English']   1947-09-12  8000000.0   \n",
       "2168            ['USA']             ['English']   1947-12-08  2000000.0   \n",
       "7722  ['USA', 'Mexico']  ['English', 'Spanish']   1948-01-24  3000000.0   \n",
       "7158          ['Italy']  ['Italian', 'English']   1949-12-13   133000.0   \n",
       "\n",
       "       gross usa  cumulative worldwide gross  \\\n",
       "462   23650000.0                  23656620.0   \n",
       "463   20408163.0                  20428771.0   \n",
       "2168     64636.0                     64636.0   \n",
       "7722    215295.0                    215295.0   \n",
       "7158    371111.0                    428978.0   \n",
       "\n",
       "                                               director  \\\n",
       "462                                       ['nm0943758']   \n",
       "463   ['nm0896542', 'nm0112897', 'nm0226189', 'nm029...   \n",
       "2168                                      ['nm0000122']   \n",
       "7722                                      ['nm0001379']   \n",
       "7158                                      ['nm0001120']   \n",
       "\n",
       "                                                 writer  \\\n",
       "462                          ['nm0792845', 'nm0437969']   \n",
       "463   ['nm0006388', 'nm0124002', 'nm0308177', 'nm037...   \n",
       "2168                         ['nm0000122', 'nm0000080']   \n",
       "7722                         ['nm0001379', 'nm0871252']   \n",
       "7158  ['nm0953790', 'nm0059030', 'nm0080755', 'nm014...   \n",
       "\n",
       "                                                   cast  \\\n",
       "462   ['nm0001485', 'nm0545298', 'nm0000763', 'nm094...   \n",
       "463   ['nm0428354', 'nm0001072', 'nm0000060', 'nm000...   \n",
       "2168  ['nm0000122', 'nm0180900', 'nm0734467', 'nm050...   \n",
       "7722  ['nm0000007', 'nm0404158', 'nm0392529', 'nm007...   \n",
       "7158  ['nm0536009', 'nm0821543', 'nm0136794', 'nm002...   \n",
       "\n",
       "              production company  budget_PPI  gross_usa_PPI  \\\n",
       "462                ['co0016710']    0.125945       0.125945   \n",
       "463   ['co0130901', 'co0005025']    0.132997       0.132997   \n",
       "2168               ['co0028083']    0.139547       0.139547   \n",
       "7722               ['co0002663']    0.137028       0.137028   \n",
       "7158  ['co0534951', 'co0072996']    0.130479       0.130479   \n",
       "\n",
       "      cumulative_worldwide_gross_PPI  \n",
       "462                         0.125945  \n",
       "463                         0.132997  \n",
       "2168                        0.139547  \n",
       "7722                        0.137028  \n",
       "7158                        0.130479  "
      ]
     },
     "execution_count": 275,
     "metadata": {},
     "output_type": "execute_result"
    }
   ],
   "source": [
    "movies=movies.sort_values(by='release date',ascending=True)\n",
    "movies.head()"
   ]
  },
  {
   "cell_type": "code",
   "execution_count": 276,
   "metadata": {
    "scrolled": true
   },
   "outputs": [
    {
     "data": {
      "text/html": [
       "<div>\n",
       "<style scoped>\n",
       "    .dataframe tbody tr th:only-of-type {\n",
       "        vertical-align: middle;\n",
       "    }\n",
       "\n",
       "    .dataframe tbody tr th {\n",
       "        vertical-align: top;\n",
       "    }\n",
       "\n",
       "    .dataframe thead th {\n",
       "        text-align: right;\n",
       "    }\n",
       "</style>\n",
       "<table border=\"1\" class=\"dataframe\">\n",
       "  <thead>\n",
       "    <tr style=\"text-align: right;\">\n",
       "      <th></th>\n",
       "      <th>Unnamed: 0</th>\n",
       "      <th>title</th>\n",
       "      <th>imdb id</th>\n",
       "      <th>runtime</th>\n",
       "      <th>genre</th>\n",
       "      <th>rate</th>\n",
       "      <th>rating count</th>\n",
       "      <th>country</th>\n",
       "      <th>language</th>\n",
       "      <th>release date</th>\n",
       "      <th>...</th>\n",
       "      <th>director</th>\n",
       "      <th>writer</th>\n",
       "      <th>cast</th>\n",
       "      <th>production company</th>\n",
       "      <th>budget_PPI</th>\n",
       "      <th>gross_usa_PPI</th>\n",
       "      <th>cumulative_worldwide_gross_PPI</th>\n",
       "      <th>budget_adjusted</th>\n",
       "      <th>gross_usa_adjusted</th>\n",
       "      <th>cumulative_worldwide_gross_adjusted</th>\n",
       "    </tr>\n",
       "  </thead>\n",
       "  <tbody>\n",
       "    <tr>\n",
       "      <th>462</th>\n",
       "      <td>462</td>\n",
       "      <td>The Best Years of Our Lives</td>\n",
       "      <td>tt0036868</td>\n",
       "      <td>170</td>\n",
       "      <td>['Drama', 'Romance', 'War']</td>\n",
       "      <td>8.0</td>\n",
       "      <td>54247.0</td>\n",
       "      <td>['USA']</td>\n",
       "      <td>['English']</td>\n",
       "      <td>1947-05-29</td>\n",
       "      <td>...</td>\n",
       "      <td>['nm0943758']</td>\n",
       "      <td>['nm0792845', 'nm0437969']</td>\n",
       "      <td>['nm0001485', 'nm0545298', 'nm0000763', 'nm094...</td>\n",
       "      <td>['co0016710']</td>\n",
       "      <td>0.125945</td>\n",
       "      <td>0.125945</td>\n",
       "      <td>0.125945</td>\n",
       "      <td>1.667400e+07</td>\n",
       "      <td>1.877810e+08</td>\n",
       "      <td>1.878336e+08</td>\n",
       "    </tr>\n",
       "    <tr>\n",
       "      <th>463</th>\n",
       "      <td>463</td>\n",
       "      <td>Duel in the Sun</td>\n",
       "      <td>tt0038499</td>\n",
       "      <td>129</td>\n",
       "      <td>['Drama', 'Romance', 'Western']</td>\n",
       "      <td>6.8</td>\n",
       "      <td>7572.0</td>\n",
       "      <td>['USA']</td>\n",
       "      <td>['English']</td>\n",
       "      <td>1947-09-12</td>\n",
       "      <td>...</td>\n",
       "      <td>['nm0896542', 'nm0112897', 'nm0226189', 'nm029...</td>\n",
       "      <td>['nm0006388', 'nm0124002', 'nm0308177', 'nm037...</td>\n",
       "      <td>['nm0428354', 'nm0001072', 'nm0000060', 'nm000...</td>\n",
       "      <td>['co0130901', 'co0005025']</td>\n",
       "      <td>0.132997</td>\n",
       "      <td>0.132997</td>\n",
       "      <td>0.132997</td>\n",
       "      <td>6.015152e+07</td>\n",
       "      <td>1.534477e+08</td>\n",
       "      <td>1.536027e+08</td>\n",
       "    </tr>\n",
       "    <tr>\n",
       "      <th>2168</th>\n",
       "      <td>2168</td>\n",
       "      <td>Monsieur Verdoux</td>\n",
       "      <td>tt0039631</td>\n",
       "      <td>124</td>\n",
       "      <td>['Comedy', 'Crime', 'Drama']</td>\n",
       "      <td>7.9</td>\n",
       "      <td>14502.0</td>\n",
       "      <td>['USA']</td>\n",
       "      <td>['English']</td>\n",
       "      <td>1947-12-08</td>\n",
       "      <td>...</td>\n",
       "      <td>['nm0000122']</td>\n",
       "      <td>['nm0000122', 'nm0000080']</td>\n",
       "      <td>['nm0000122', 'nm0180900', 'nm0734467', 'nm050...</td>\n",
       "      <td>['co0028083']</td>\n",
       "      <td>0.139547</td>\n",
       "      <td>0.139547</td>\n",
       "      <td>0.139547</td>\n",
       "      <td>1.433213e+07</td>\n",
       "      <td>4.631858e+05</td>\n",
       "      <td>4.631858e+05</td>\n",
       "    </tr>\n",
       "    <tr>\n",
       "      <th>7722</th>\n",
       "      <td>7722</td>\n",
       "      <td>The Treasure of the Sierra Madre</td>\n",
       "      <td>tt0040897</td>\n",
       "      <td>126</td>\n",
       "      <td>['Adventure', 'Drama', 'Western']</td>\n",
       "      <td>8.2</td>\n",
       "      <td>106113.0</td>\n",
       "      <td>['USA', 'Mexico']</td>\n",
       "      <td>['English', 'Spanish']</td>\n",
       "      <td>1948-01-24</td>\n",
       "      <td>...</td>\n",
       "      <td>['nm0001379']</td>\n",
       "      <td>['nm0001379', 'nm0871252']</td>\n",
       "      <td>['nm0000007', 'nm0404158', 'nm0392529', 'nm007...</td>\n",
       "      <td>['co0002663']</td>\n",
       "      <td>0.137028</td>\n",
       "      <td>0.137028</td>\n",
       "      <td>0.137028</td>\n",
       "      <td>2.189338e+07</td>\n",
       "      <td>1.571179e+06</td>\n",
       "      <td>1.571179e+06</td>\n",
       "    </tr>\n",
       "    <tr>\n",
       "      <th>7158</th>\n",
       "      <td>7158</td>\n",
       "      <td>Bicycle Thieves</td>\n",
       "      <td>tt0040522</td>\n",
       "      <td>89</td>\n",
       "      <td>['Drama']</td>\n",
       "      <td>8.3</td>\n",
       "      <td>132278.0</td>\n",
       "      <td>['Italy']</td>\n",
       "      <td>['Italian', 'English']</td>\n",
       "      <td>1949-12-13</td>\n",
       "      <td>...</td>\n",
       "      <td>['nm0001120']</td>\n",
       "      <td>['nm0953790', 'nm0059030', 'nm0080755', 'nm014...</td>\n",
       "      <td>['nm0536009', 'nm0821543', 'nm0136794', 'nm002...</td>\n",
       "      <td>['co0534951', 'co0072996']</td>\n",
       "      <td>0.130479</td>\n",
       "      <td>0.130479</td>\n",
       "      <td>0.130479</td>\n",
       "      <td>1.019324e+06</td>\n",
       "      <td>2.844229e+06</td>\n",
       "      <td>3.287727e+06</td>\n",
       "    </tr>\n",
       "  </tbody>\n",
       "</table>\n",
       "<p>5 rows × 23 columns</p>\n",
       "</div>"
      ],
      "text/plain": [
       "      Unnamed: 0                             title    imdb id  runtime  \\\n",
       "462          462       The Best Years of Our Lives  tt0036868      170   \n",
       "463          463                   Duel in the Sun  tt0038499      129   \n",
       "2168        2168                  Monsieur Verdoux  tt0039631      124   \n",
       "7722        7722  The Treasure of the Sierra Madre  tt0040897      126   \n",
       "7158        7158                   Bicycle Thieves  tt0040522       89   \n",
       "\n",
       "                                  genre  rate  rating count  \\\n",
       "462         ['Drama', 'Romance', 'War']   8.0       54247.0   \n",
       "463     ['Drama', 'Romance', 'Western']   6.8        7572.0   \n",
       "2168       ['Comedy', 'Crime', 'Drama']   7.9       14502.0   \n",
       "7722  ['Adventure', 'Drama', 'Western']   8.2      106113.0   \n",
       "7158                          ['Drama']   8.3      132278.0   \n",
       "\n",
       "                country                language release date  ...  \\\n",
       "462             ['USA']             ['English']   1947-05-29  ...   \n",
       "463             ['USA']             ['English']   1947-09-12  ...   \n",
       "2168            ['USA']             ['English']   1947-12-08  ...   \n",
       "7722  ['USA', 'Mexico']  ['English', 'Spanish']   1948-01-24  ...   \n",
       "7158          ['Italy']  ['Italian', 'English']   1949-12-13  ...   \n",
       "\n",
       "                                               director  \\\n",
       "462                                       ['nm0943758']   \n",
       "463   ['nm0896542', 'nm0112897', 'nm0226189', 'nm029...   \n",
       "2168                                      ['nm0000122']   \n",
       "7722                                      ['nm0001379']   \n",
       "7158                                      ['nm0001120']   \n",
       "\n",
       "                                                 writer  \\\n",
       "462                          ['nm0792845', 'nm0437969']   \n",
       "463   ['nm0006388', 'nm0124002', 'nm0308177', 'nm037...   \n",
       "2168                         ['nm0000122', 'nm0000080']   \n",
       "7722                         ['nm0001379', 'nm0871252']   \n",
       "7158  ['nm0953790', 'nm0059030', 'nm0080755', 'nm014...   \n",
       "\n",
       "                                                   cast  \\\n",
       "462   ['nm0001485', 'nm0545298', 'nm0000763', 'nm094...   \n",
       "463   ['nm0428354', 'nm0001072', 'nm0000060', 'nm000...   \n",
       "2168  ['nm0000122', 'nm0180900', 'nm0734467', 'nm050...   \n",
       "7722  ['nm0000007', 'nm0404158', 'nm0392529', 'nm007...   \n",
       "7158  ['nm0536009', 'nm0821543', 'nm0136794', 'nm002...   \n",
       "\n",
       "              production company budget_PPI gross_usa_PPI  \\\n",
       "462                ['co0016710']   0.125945      0.125945   \n",
       "463   ['co0130901', 'co0005025']   0.132997      0.132997   \n",
       "2168               ['co0028083']   0.139547      0.139547   \n",
       "7722               ['co0002663']   0.137028      0.137028   \n",
       "7158  ['co0534951', 'co0072996']   0.130479      0.130479   \n",
       "\n",
       "     cumulative_worldwide_gross_PPI  budget_adjusted  gross_usa_adjusted  \\\n",
       "462                        0.125945     1.667400e+07        1.877810e+08   \n",
       "463                        0.132997     6.015152e+07        1.534477e+08   \n",
       "2168                       0.139547     1.433213e+07        4.631858e+05   \n",
       "7722                       0.137028     2.189338e+07        1.571179e+06   \n",
       "7158                       0.130479     1.019324e+06        2.844229e+06   \n",
       "\n",
       "      cumulative_worldwide_gross_adjusted  \n",
       "462                          1.878336e+08  \n",
       "463                          1.536027e+08  \n",
       "2168                         4.631858e+05  \n",
       "7722                         1.571179e+06  \n",
       "7158                         3.287727e+06  \n",
       "\n",
       "[5 rows x 23 columns]"
      ]
     },
     "execution_count": 276,
     "metadata": {},
     "output_type": "execute_result"
    }
   ],
   "source": [
    "movies['budget_adjusted']=movies['budget']/movies['budget_PPI']\n",
    "movies['gross_usa_adjusted']=movies['gross usa']/movies['gross_usa_PPI']\n",
    "movies['cumulative_worldwide_gross_adjusted']=movies['cumulative worldwide gross']/movies['cumulative_worldwide_gross_PPI']\n",
    "movies.head()"
   ]
  },
  {
   "cell_type": "markdown",
   "metadata": {},
   "source": [
    "<h3>Quantify Country Attribute</h3>\n",
    "<li> One-hot encoding transformation is used. We split this attribute into three attributes: USA, UK and other_countries."
   ]
  },
  {
   "cell_type": "code",
   "execution_count": 277,
   "metadata": {},
   "outputs": [
    {
     "name": "stdout",
     "output_type": "stream",
     "text": [
      "(7723, 23)\n",
      "7723\n"
     ]
    }
   ],
   "source": [
    "print(movies.shape)\n",
    "countries=np.array(movies['country'])\n",
    "c_list=list()\n",
    "for i in countries:\n",
    "    c_dict={'USA':0,'UK':0,'other_countries':0}\n",
    "    if 'USA' in i:\n",
    "        c_dict['USA']=1\n",
    "    elif 'UK' in i:\n",
    "        c_dict['UK']=1\n",
    "    else:\n",
    "        c_dict['other_countries']=1\n",
    "    c_list.append(c_dict)\n",
    "print(len(c_list))\n",
    "c_df=pd.DataFrame(c_list)\n",
    "movies=movies.join(c_df)"
   ]
  },
  {
   "cell_type": "markdown",
   "metadata": {},
   "source": [
    "<h3>Classify gross attributes</h3>\n",
    "<li> we calculate the 0%, 33.33%, 66.67%, 100% quantile, and divided all movies into three group: low (0 - 33.33%), medium (33.33 – 66.67%) and high (66.67 – 100%), which are represented by 1, 2, 3 respectively and stored as variable gross_usa_adjusted_level ."
   ]
  },
  {
   "cell_type": "code",
   "execution_count": 278,
   "metadata": {},
   "outputs": [],
   "source": [
    "def gross_level(gross):\n",
    "    df=np.array(gross)\n",
    "    pc=list()\n",
    "    for i in [0,100/3,200/3,100]:\n",
    "        x=np.percentile(df,i)\n",
    "        pc.append(x)\n",
    "    level_list=list()\n",
    "    for i in df:\n",
    "        for j in range(len(pc)):\n",
    "            if j<len(pc)-2:\n",
    "                if i>=pc[j] and i<pc[j+1]:\n",
    "                    level_list.append(j+1)\n",
    "            elif j==len(pc)-2:\n",
    "                if i>=pc[j] and i<=pc[j+1]:\n",
    "                    level_list.append(j+1)\n",
    "            else:\n",
    "                continue\n",
    "#     print(len(level_list))\n",
    "    level_df=pd.DataFrame(level_list) \n",
    "    return level_df  \n",
    "movies['gross_usa_adjusted_level']=gross_level(movies['gross_usa_adjusted'])\n",
    "movies['cumulative_worldwide_gross_adjusted_level']=gross_level(movies['cumulative_worldwide_gross_adjusted'])"
   ]
  },
  {
   "cell_type": "markdown",
   "metadata": {},
   "source": [
    "<h3> Quantify genre attribute</h3>\n",
    "<li> One-hot encoding transforms genre attribute to 21 binary attributes. All values are 0 except for 1."
   ]
  },
  {
   "cell_type": "code",
   "execution_count": 279,
   "metadata": {},
   "outputs": [],
   "source": [
    "def genre(df):\n",
    "    genre_set=set()\n",
    "    for i in df:\n",
    "        for j in eval(i):\n",
    "            genre_set.add(j)\n",
    "    genre_set=list(genre_set)\n",
    "\n",
    "    genre_list=list()\n",
    "    for i in df:\n",
    "        genre_dict=dict()\n",
    "        for j in genre_set:\n",
    "            if j in eval(i):\n",
    "                genre_dict[j]=1\n",
    "            else:\n",
    "                genre_dict[j]=0\n",
    "        genre_list.append(genre_dict)\n",
    "    genre_df=pd.DataFrame(genre_list)\n",
    "    return genre_df"
   ]
  },
  {
   "cell_type": "code",
   "execution_count": 280,
   "metadata": {},
   "outputs": [
    {
     "data": {
      "text/html": [
       "<div>\n",
       "<style scoped>\n",
       "    .dataframe tbody tr th:only-of-type {\n",
       "        vertical-align: middle;\n",
       "    }\n",
       "\n",
       "    .dataframe tbody tr th {\n",
       "        vertical-align: top;\n",
       "    }\n",
       "\n",
       "    .dataframe thead th {\n",
       "        text-align: right;\n",
       "    }\n",
       "</style>\n",
       "<table border=\"1\" class=\"dataframe\">\n",
       "  <thead>\n",
       "    <tr style=\"text-align: right;\">\n",
       "      <th></th>\n",
       "      <th>Unnamed: 0</th>\n",
       "      <th>title</th>\n",
       "      <th>imdb id</th>\n",
       "      <th>runtime</th>\n",
       "      <th>rate</th>\n",
       "      <th>rating count</th>\n",
       "      <th>country</th>\n",
       "      <th>language</th>\n",
       "      <th>release date</th>\n",
       "      <th>budget</th>\n",
       "      <th>...</th>\n",
       "      <th>Film-Noir</th>\n",
       "      <th>Animation</th>\n",
       "      <th>Action</th>\n",
       "      <th>War</th>\n",
       "      <th>Adventure</th>\n",
       "      <th>Romance</th>\n",
       "      <th>Musical</th>\n",
       "      <th>Biography</th>\n",
       "      <th>History</th>\n",
       "      <th>Western</th>\n",
       "    </tr>\n",
       "  </thead>\n",
       "  <tbody>\n",
       "    <tr>\n",
       "      <th>462</th>\n",
       "      <td>462</td>\n",
       "      <td>The Best Years of Our Lives</td>\n",
       "      <td>tt0036868</td>\n",
       "      <td>170</td>\n",
       "      <td>8.0</td>\n",
       "      <td>54247.0</td>\n",
       "      <td>['USA']</td>\n",
       "      <td>['English']</td>\n",
       "      <td>1947-05-29</td>\n",
       "      <td>2100000.0</td>\n",
       "      <td>...</td>\n",
       "      <td>0</td>\n",
       "      <td>0</td>\n",
       "      <td>0</td>\n",
       "      <td>0</td>\n",
       "      <td>0</td>\n",
       "      <td>0</td>\n",
       "      <td>0</td>\n",
       "      <td>0</td>\n",
       "      <td>0</td>\n",
       "      <td>0</td>\n",
       "    </tr>\n",
       "    <tr>\n",
       "      <th>463</th>\n",
       "      <td>463</td>\n",
       "      <td>Duel in the Sun</td>\n",
       "      <td>tt0038499</td>\n",
       "      <td>129</td>\n",
       "      <td>6.8</td>\n",
       "      <td>7572.0</td>\n",
       "      <td>['USA']</td>\n",
       "      <td>['English']</td>\n",
       "      <td>1947-09-12</td>\n",
       "      <td>8000000.0</td>\n",
       "      <td>...</td>\n",
       "      <td>0</td>\n",
       "      <td>0</td>\n",
       "      <td>1</td>\n",
       "      <td>0</td>\n",
       "      <td>0</td>\n",
       "      <td>0</td>\n",
       "      <td>0</td>\n",
       "      <td>0</td>\n",
       "      <td>0</td>\n",
       "      <td>0</td>\n",
       "    </tr>\n",
       "    <tr>\n",
       "      <th>2168</th>\n",
       "      <td>2168</td>\n",
       "      <td>Monsieur Verdoux</td>\n",
       "      <td>tt0039631</td>\n",
       "      <td>124</td>\n",
       "      <td>7.9</td>\n",
       "      <td>14502.0</td>\n",
       "      <td>['USA']</td>\n",
       "      <td>['English']</td>\n",
       "      <td>1947-12-08</td>\n",
       "      <td>2000000.0</td>\n",
       "      <td>...</td>\n",
       "      <td>0</td>\n",
       "      <td>0</td>\n",
       "      <td>0</td>\n",
       "      <td>0</td>\n",
       "      <td>0</td>\n",
       "      <td>0</td>\n",
       "      <td>0</td>\n",
       "      <td>1</td>\n",
       "      <td>0</td>\n",
       "      <td>0</td>\n",
       "    </tr>\n",
       "    <tr>\n",
       "      <th>7722</th>\n",
       "      <td>7722</td>\n",
       "      <td>The Treasure of the Sierra Madre</td>\n",
       "      <td>tt0040897</td>\n",
       "      <td>126</td>\n",
       "      <td>8.2</td>\n",
       "      <td>106113.0</td>\n",
       "      <td>['USA', 'Mexico']</td>\n",
       "      <td>['English', 'Spanish']</td>\n",
       "      <td>1948-01-24</td>\n",
       "      <td>3000000.0</td>\n",
       "      <td>...</td>\n",
       "      <td>0</td>\n",
       "      <td>1</td>\n",
       "      <td>0</td>\n",
       "      <td>0</td>\n",
       "      <td>1</td>\n",
       "      <td>0</td>\n",
       "      <td>0</td>\n",
       "      <td>0</td>\n",
       "      <td>0</td>\n",
       "      <td>0</td>\n",
       "    </tr>\n",
       "    <tr>\n",
       "      <th>7158</th>\n",
       "      <td>7158</td>\n",
       "      <td>Bicycle Thieves</td>\n",
       "      <td>tt0040522</td>\n",
       "      <td>89</td>\n",
       "      <td>8.3</td>\n",
       "      <td>132278.0</td>\n",
       "      <td>['Italy']</td>\n",
       "      <td>['Italian', 'English']</td>\n",
       "      <td>1949-12-13</td>\n",
       "      <td>133000.0</td>\n",
       "      <td>...</td>\n",
       "      <td>0</td>\n",
       "      <td>0</td>\n",
       "      <td>0</td>\n",
       "      <td>0</td>\n",
       "      <td>0</td>\n",
       "      <td>0</td>\n",
       "      <td>0</td>\n",
       "      <td>0</td>\n",
       "      <td>0</td>\n",
       "      <td>0</td>\n",
       "    </tr>\n",
       "  </tbody>\n",
       "</table>\n",
       "<p>5 rows × 48 columns</p>\n",
       "</div>"
      ],
      "text/plain": [
       "      Unnamed: 0                             title    imdb id  runtime  rate  \\\n",
       "462          462       The Best Years of Our Lives  tt0036868      170   8.0   \n",
       "463          463                   Duel in the Sun  tt0038499      129   6.8   \n",
       "2168        2168                  Monsieur Verdoux  tt0039631      124   7.9   \n",
       "7722        7722  The Treasure of the Sierra Madre  tt0040897      126   8.2   \n",
       "7158        7158                   Bicycle Thieves  tt0040522       89   8.3   \n",
       "\n",
       "      rating count            country                language release date  \\\n",
       "462        54247.0            ['USA']             ['English']   1947-05-29   \n",
       "463         7572.0            ['USA']             ['English']   1947-09-12   \n",
       "2168       14502.0            ['USA']             ['English']   1947-12-08   \n",
       "7722      106113.0  ['USA', 'Mexico']  ['English', 'Spanish']   1948-01-24   \n",
       "7158      132278.0          ['Italy']  ['Italian', 'English']   1949-12-13   \n",
       "\n",
       "         budget  ...  Film-Noir  Animation Action War Adventure Romance  \\\n",
       "462   2100000.0  ...          0          0      0   0         0       0   \n",
       "463   8000000.0  ...          0          0      1   0         0       0   \n",
       "2168  2000000.0  ...          0          0      0   0         0       0   \n",
       "7722  3000000.0  ...          0          1      0   0         1       0   \n",
       "7158   133000.0  ...          0          0      0   0         0       0   \n",
       "\n",
       "      Musical  Biography  History  Western  \n",
       "462         0          0        0        0  \n",
       "463         0          0        0        0  \n",
       "2168        0          1        0        0  \n",
       "7722        0          0        0        0  \n",
       "7158        0          0        0        0  \n",
       "\n",
       "[5 rows x 48 columns]"
      ]
     },
     "execution_count": 280,
     "metadata": {},
     "output_type": "execute_result"
    }
   ],
   "source": [
    "df=movies['genre']\n",
    "genres=genre(df)\n",
    "movies_1=movies.join(genres)\n",
    "del movies_1['genre']\n",
    "movies_1.head()"
   ]
  },
  {
   "cell_type": "code",
   "execution_count": 281,
   "metadata": {
    "scrolled": true
   },
   "outputs": [],
   "source": [
    "movies=movies_1\n",
    "del movies['Unnamed: 0']"
   ]
  },
  {
   "cell_type": "markdown",
   "metadata": {},
   "source": [
    "### Quantify people and company attributes\n",
    "  - To judge a person\\company, his past achievement is the most important factor that should be considered. We judge this from two sides:\n",
    "    - The number of previous works of a person/companies are also calculated to measure how experienced he is in making movies.\n",
    "    - Business Value: We first score movies (highest-revenue movie gets 100 points, lowest-revenue movie gets 0 points, and other movies are linearly distributed between 0 and 100). Then, for each person/company of each movie, we calculate the average score of all the movies he participated in before this movie as his score at that moment.Finally, we calculate the sum of the scores of all people/companies in a movie."
   ]
  },
  {
   "cell_type": "code",
   "execution_count": 282,
   "metadata": {},
   "outputs": [],
   "source": [
    "def count(df):\n",
    "    e_dict=dict()\n",
    "    for i in df:\n",
    "        for j in eval(i):\n",
    "            if j in e_dict.keys():\n",
    "                e_dict[j]+=1\n",
    "            else:\n",
    "                e_dict[j]=1\n",
    "    frequency=list()\n",
    "    for i in df:\n",
    "        freq=0\n",
    "        for j in eval(i):\n",
    "            freq+=e_dict[j]\n",
    "        frequency.append(freq)\n",
    "    frequency=pd.DataFrame(frequency)    \n",
    "    return frequency"
   ]
  },
  {
   "cell_type": "code",
   "execution_count": 283,
   "metadata": {},
   "outputs": [],
   "source": [
    "count_list=['language','director','writer','cast','production company']\n",
    "for i in count_list:\n",
    "    df=movies[i]\n",
    "    counts=count(df)\n",
    "    name=i+'_count'\n",
    "    movies[name]=counts"
   ]
  },
  {
   "cell_type": "code",
   "execution_count": 284,
   "metadata": {},
   "outputs": [],
   "source": [
    "movies['gross_usa_score']=np.log(movies['gross_usa_adjusted'])/np.log(max(movies['gross_usa_adjusted']))*100\n",
    "movies['cumulative_worldwide_gross_score']=np.log(movies['cumulative_worldwide_gross_adjusted'])/np.log(max(movies['cumulative_worldwide_gross_adjusted']))*100"
   ]
  },
  {
   "cell_type": "code",
   "execution_count": 285,
   "metadata": {
    "scrolled": true
   },
   "outputs": [],
   "source": [
    "for x in [ 'director', 'writer', 'cast','production company']:\n",
    "    row=0\n",
    "    usa_score_list=[]\n",
    "    worldwide_score_list=[]\n",
    "    dictionary=dict()\n",
    "\n",
    "    for i in range(movies.shape[0]):\n",
    "        for name in eval(movies[x].iloc[i]):\n",
    "            if name not in dictionary.keys():\n",
    "                dictionary[name]=[]\n",
    "            dictionary[name].append(i)\n",
    "        column=x+'_score'\n",
    "    #     print(dictionary)\n",
    "\n",
    "        usa_score=0\n",
    "        worldwide_score=0\n",
    "\n",
    "        for j in eval(movies[x].iloc[i]):\n",
    "            usa_total_score=0\n",
    "            worldwide_total_score=0\n",
    "    #         print(dictionary[j])\n",
    "            for k in dictionary[j]:\n",
    "                usa_total_score+=movies['gross_usa_score'].iloc[k]\n",
    "                worldwide_total_score+=movies['cumulative_worldwide_gross_score'].iloc[k]\n",
    "            usa_score_per= usa_total_score/len(dictionary[j])\n",
    "            worldwide_score_per=worldwide_total_score/len(dictionary[j])\n",
    "\n",
    "    #         print(usa_score_per)\n",
    "            usa_score+=usa_score_per\n",
    "            worldwide_score+=worldwide_score_per\n",
    "\n",
    "    #     print(usa_score)\n",
    "        usa_score_list.append(usa_score)\n",
    "        worldwide_score_list.append(worldwide_score)\n",
    "    #     print(usa_score_list)\n",
    "    column=x+'_score'\n",
    "    movies[column+'_US']=np.array(usa_score_list)\n",
    "    movies[column+'_worldwide']=np.array(worldwide_score_list)"
   ]
  },
  {
   "cell_type": "markdown",
   "metadata": {},
   "source": [
    "### Get the release year, week of a movie"
   ]
  },
  {
   "cell_type": "code",
   "execution_count": 286,
   "metadata": {
    "scrolled": true
   },
   "outputs": [],
   "source": [
    "def year(x):\n",
    "    return x.year\n",
    "movies['release_year']=movies['release date'].apply(year)\n",
    "movies['budget_year']=movies['budget_adjusted']/movies['release_year']"
   ]
  },
  {
   "cell_type": "code",
   "execution_count": 287,
   "metadata": {},
   "outputs": [],
   "source": [
    "# movies[ 'release date'].iloc[100].isocalendar()[1]\n",
    "def week_number(x):\n",
    "    return x.isocalendar()[1]\n",
    "movies['week_number']=movies[ 'release date'].apply(week_number)"
   ]
  },
  {
   "cell_type": "markdown",
   "metadata": {},
   "source": [
    "### Identify serial movies and mark them with their serial number"
   ]
  },
  {
   "cell_type": "code",
   "execution_count": 288,
   "metadata": {},
   "outputs": [],
   "source": [
    "collec=pd.read_csv('Models_data/movie_num.csv')\n",
    "del collec['Unnamed: 0']\n",
    "movies=pd.merge(movies,collec,how='left',on='imdb id')\n",
    "movies['movie_num']=movies['movie_num'].fillna(1)"
   ]
  },
  {
   "cell_type": "markdown",
   "metadata": {},
   "source": [
    "### Delete movies release before 1980 and in 2000\n",
    "- Due to some technical issues, the movie data before 1980 and in 2000 is significantly lower than other times."
   ]
  },
  {
   "cell_type": "code",
   "execution_count": 289,
   "metadata": {},
   "outputs": [],
   "source": [
    "from datetime import datetime\n",
    "movies['release date'].iloc[0].year\n",
    "def year_test(x):\n",
    "    if x.year<1980 or x.year==2000:\n",
    "        return False\n",
    "    else:\n",
    "        return True\n",
    "movies=movies[movies['release date'].apply(year_test)]\n",
    "movies=movies[movies['USA']==1]\n",
    "movies=movies[movies['UK']==0]\n",
    "movies=movies[movies['other_countries']==0]"
   ]
  },
  {
   "cell_type": "markdown",
   "metadata": {},
   "source": [
    "### Combine with external economic factors"
   ]
  },
  {
   "cell_type": "code",
   "execution_count": 290,
   "metadata": {},
   "outputs": [],
   "source": [
    "e_factors=pd.read_csv('Models_data/external_factors.csv')"
   ]
  },
  {
   "cell_type": "code",
   "execution_count": 291,
   "metadata": {},
   "outputs": [
    {
     "data": {
      "text/plain": [
       "(5960, 84)"
      ]
     },
     "execution_count": 291,
     "metadata": {},
     "output_type": "execute_result"
    }
   ],
   "source": [
    "movies=pd.merge(movies,e_factors,how='left',on='imdb id')\n",
    "movies.shape"
   ]
  },
  {
   "cell_type": "code",
   "execution_count": 292,
   "metadata": {},
   "outputs": [
    {
     "data": {
      "text/plain": [
       "(5633, 84)"
      ]
     },
     "execution_count": 292,
     "metadata": {},
     "output_type": "execute_result"
    }
   ],
   "source": [
    "movies=movies.dropna()\n",
    "movies.shape"
   ]
  },
  {
   "cell_type": "markdown",
   "metadata": {},
   "source": [
    "<h1>Regression Analysis"
   ]
  },
  {
   "cell_type": "markdown",
   "metadata": {},
   "source": [
    "<li> Drop useless attributes and the attributes that are highly correlated;\n",
    "<li> Select independant variables (indep)\n",
    "<li> Select dependant variables."
   ]
  },
  {
   "cell_type": "code",
   "execution_count": 188,
   "metadata": {
    "scrolled": true
   },
   "outputs": [
    {
     "data": {
      "text/plain": [
       "['runtime',\n",
       " 'budget_adjusted',\n",
       " 'USA',\n",
       " 'UK',\n",
       " 'other_countries',\n",
       " 'language_count',\n",
       " 'director_count',\n",
       " 'writer_count',\n",
       " 'cast_count',\n",
       " 'production company_count',\n",
       " 'Comedy',\n",
       " 'Crime',\n",
       " 'Mystery',\n",
       " 'Fantasy',\n",
       " 'Sport',\n",
       " 'Thriller',\n",
       " 'Horror',\n",
       " 'Drama',\n",
       " 'Family',\n",
       " 'Music',\n",
       " 'Sci-Fi',\n",
       " 'Film-Noir',\n",
       " 'Animation',\n",
       " 'Action',\n",
       " 'War',\n",
       " 'Adventure',\n",
       " 'Romance',\n",
       " 'Musical',\n",
       " 'Biography',\n",
       " 'History',\n",
       " 'Western',\n",
       " 'director_score_US',\n",
       " 'writer_score_US',\n",
       " 'cast_score_US',\n",
       " 'production company_score_US',\n",
       " 'budget_year',\n",
       " 'week_number',\n",
       " 'movie_num',\n",
       " 'Unemployment_Rate',\n",
       " 'US CPI: All items',\n",
       " 'GDP_deflator',\n",
       " 'US Real GDP 2',\n",
       " 'US Real GDP 1',\n",
       " 'US Real GDP: Personal Consumption Expenditures',\n",
       " 'US Nominal GDP: Gross Domestic Product',\n",
       " 'US Nominal GDP: Personal Consumption Expenditures',\n",
       " 'House_Price_Index',\n",
       " 'Gini: Gini Coefficient',\n",
       " 'World CPI 2',\n",
       " 'rev_ppi_log',\n",
       " 'budget_ppi_log']"
      ]
     },
     "execution_count": 188,
     "metadata": {},
     "output_type": "execute_result"
    }
   ],
   "source": [
    "all_attr=list(movies.columns)\n",
    "useless=['title','imdb id','release date','rating count','rate','country','genre','budget', 'director', 'writer', 'cast', 'language',\n",
    "         'gross usa', 'cumulative worldwide gross','budget_PPI', 'gross_usa_PPI','cumulative_worldwide_gross_PPI','production company',\n",
    "         'gross_usa_score','cumulative_worldwide_gross_score']\n",
    "dep=['gross_usa_adjusted', 'cumulative_worldwide_gross_adjusted','gross_usa_adjusted_level','cumulative_worldwide_gross_adjusted_level']\n",
    "high_cor=['Gini: White Alone','China Personal Expense: Rural Households','China Personal Expense: Urban Households','China Personal Expense: All Households',\n",
    "         'cast_score_worldwide','director_score_worldwide','writer_score_worldwide','US CPI: All Items (1967=100)','production company_score_worldwide',\n",
    "         'release_year']\n",
    "indep=[x for x in all_attr if (x not in dep and x not in useless and x not in high_cor)]\n",
    "indep"
   ]
  },
  {
   "cell_type": "markdown",
   "metadata": {},
   "source": [
    "### Calculate the correlation coefficients between independent variables\n",
    "- To get a brief idea of feature importance"
   ]
  },
  {
   "cell_type": "code",
   "execution_count": 189,
   "metadata": {},
   "outputs": [],
   "source": [
    "import seaborn as sns\n",
    "import matplotlib.pyplot as plt\n",
    "def test(df):\n",
    "    dfData = df.corr()\n",
    "    dfData = abs(dfData)\n",
    "    plt.subplots(figsize=(15, 15)) # 设置画面大小\n",
    "    sns.heatmap(dfData, annot=False, vmax=1, square=True, cmap=\"Blues\")\n",
    "    plt.savefig('./BluesStateRelation.png')\n",
    "    plt.show()\n"
   ]
  },
  {
   "cell_type": "code",
   "execution_count": 190,
   "metadata": {},
   "outputs": [
    {
     "data": {
      "image/png": "[encoded data removed]",
      "text/plain": [
       "<Figure size 1080x1080 with 2 Axes>"
      ]
     },
     "metadata": {
      "needs_background": "light"
     },
     "output_type": "display_data"
    }
   ],
   "source": [
    "df=movies[indep]\n",
    "test(df)"
   ]
  },
  {
   "cell_type": "code",
   "execution_count": 191,
   "metadata": {
    "scrolled": true
   },
   "outputs": [
    {
     "data": {
      "text/plain": [
       "Text(0.5, 1.0, 'Corr Analysis')"
      ]
     },
     "execution_count": 191,
     "metadata": {},
     "output_type": "execute_result"
    },
    {
     "data": {
      "image/png": "[encoded data removed]",
      "text/plain": [
       "<Figure size 720x720 with 1 Axes>"
      ]
     },
     "metadata": {
      "needs_background": "light"
     },
     "output_type": "display_data"
    }
   ],
   "source": [
    "corr_list=[]\n",
    "for i in indep:\n",
    "    if i not in ['USA','UK','other_countries']:\n",
    "        corr=movies[[i,'gross_usa_adjusted_level']].corr().iloc[1,0]\n",
    "        corr_list.append(corr)\n",
    "        \n",
    "attrs=[x for x in indep if x not in ['USA','UK','other_countries']]\n",
    "y_pos = np.arange(len(attrs))\n",
    "\n",
    "\n",
    "plt.subplots(figsize=(10, 10)) # 设置画面大小\n",
    "\n",
    "plt.barh(y_pos, corr_list, align='center', alpha=0.4)\n",
    "\n",
    "plt.yticks(y_pos, attrs)\n",
    "# plt.xlabel('Corr Analysis')\n",
    "plt.title('Corr Analysis')\n",
    "# plt.savefig(\"barh.eps\",format=\"eps\")"
   ]
  },
  {
   "cell_type": "code",
   "execution_count": 193,
   "metadata": {
    "scrolled": true
   },
   "outputs": [
    {
     "data": {
      "text/plain": [
       "Text(0.5, 1.0, 'Corr Analysis')"
      ]
     },
     "execution_count": 193,
     "metadata": {},
     "output_type": "execute_result"
    },
    {
     "data": {
      "image/png": "[encoded data removed]",
      "text/plain": [
       "<Figure size 720x720 with 1 Axes>"
      ]
     },
     "metadata": {
      "needs_background": "light"
     },
     "output_type": "display_data"
    }
   ],
   "source": [
    "corr_list=[]\n",
    "for i in indep:\n",
    "    if i not in ['USA','UK','other_countries']:\n",
    "        corr=movies[[i,'gross_usa_adjusted']].corr().iloc[1,0]\n",
    "        corr_list.append(corr)\n",
    "        \n",
    "attrs=[x for x in indep if x not in ['USA','UK','other_countries']]\n",
    "y_pos = np.arange(len(attrs))\n",
    "\n",
    "\n",
    "plt.subplots(figsize=(10, 10)) # 设置画面大小\n",
    "\n",
    "plt.barh(y_pos, corr_list, align='center', alpha=0.4)\n",
    "\n",
    "plt.yticks(y_pos, attrs)\n",
    "# plt.xlabel('Corr Analysis')\n",
    "plt.title('Corr Analysis')\n",
    "# plt.savefig(\"barh.eps\",format=\"eps\")"
   ]
  },
  {
   "cell_type": "markdown",
   "metadata": {},
   "source": [
    "<h1>Train set and test set"
   ]
  },
  {
   "cell_type": "markdown",
   "metadata": {},
   "source": [
    "<li> We now got 5960 movies and randomly choose 20% as our test set."
   ]
  },
  {
   "cell_type": "code",
   "execution_count": 242,
   "metadata": {},
   "outputs": [],
   "source": [
    "from sklearn.model_selection import train_test_split\n",
    "train, test = train_test_split(movies, test_size = 0.2)   #### 30% in the test set"
   ]
  },
  {
   "cell_type": "code",
   "execution_count": 243,
   "metadata": {},
   "outputs": [],
   "source": [
    "x_train = train[indep]\n",
    "y_train = train['gross_usa_adjusted_level']\n",
    "x_test = test[indep]\n",
    "y_test = test['gross_usa_adjusted_level']\n",
    "################################# to see how good your model is "
   ]
  },
  {
   "cell_type": "code",
   "execution_count": 244,
   "metadata": {
    "scrolled": false
   },
   "outputs": [
    {
     "data": {
      "text/html": [
       "<div>\n",
       "<style scoped>\n",
       "    .dataframe tbody tr th:only-of-type {\n",
       "        vertical-align: middle;\n",
       "    }\n",
       "\n",
       "    .dataframe tbody tr th {\n",
       "        vertical-align: top;\n",
       "    }\n",
       "\n",
       "    .dataframe thead th {\n",
       "        text-align: right;\n",
       "    }\n",
       "</style>\n",
       "<table border=\"1\" class=\"dataframe\">\n",
       "  <thead>\n",
       "    <tr style=\"text-align: right;\">\n",
       "      <th></th>\n",
       "      <th>runtime</th>\n",
       "      <th>budget_adjusted</th>\n",
       "      <th>USA</th>\n",
       "      <th>UK</th>\n",
       "      <th>other_countries</th>\n",
       "      <th>language_count</th>\n",
       "      <th>director_count</th>\n",
       "      <th>writer_count</th>\n",
       "      <th>cast_count</th>\n",
       "      <th>production company_count</th>\n",
       "      <th>...</th>\n",
       "      <th>US Real GDP 2</th>\n",
       "      <th>US Real GDP 1</th>\n",
       "      <th>US Real GDP: Personal Consumption Expenditures</th>\n",
       "      <th>US Nominal GDP: Gross Domestic Product</th>\n",
       "      <th>US Nominal GDP: Personal Consumption Expenditures</th>\n",
       "      <th>House_Price_Index</th>\n",
       "      <th>Gini: Gini Coefficient</th>\n",
       "      <th>World CPI 2</th>\n",
       "      <th>rev_ppi_log</th>\n",
       "      <th>budget_ppi_log</th>\n",
       "    </tr>\n",
       "  </thead>\n",
       "  <tbody>\n",
       "    <tr>\n",
       "      <th>count</th>\n",
       "      <td>4506.000000</td>\n",
       "      <td>4.506000e+03</td>\n",
       "      <td>4506.0</td>\n",
       "      <td>4506.0</td>\n",
       "      <td>4506.0</td>\n",
       "      <td>4506.000000</td>\n",
       "      <td>4506.000000</td>\n",
       "      <td>4506.000000</td>\n",
       "      <td>4506.000000</td>\n",
       "      <td>4506.000000</td>\n",
       "      <td>...</td>\n",
       "      <td>4506.000000</td>\n",
       "      <td>4506.000000</td>\n",
       "      <td>4506.000000</td>\n",
       "      <td>4506.000000</td>\n",
       "      <td>4506.000000</td>\n",
       "      <td>4506.000000</td>\n",
       "      <td>4506.000000</td>\n",
       "      <td>4506.000000</td>\n",
       "      <td>4506.000000</td>\n",
       "      <td>4506.000000</td>\n",
       "    </tr>\n",
       "    <tr>\n",
       "      <th>mean</th>\n",
       "      <td>107.231913</td>\n",
       "      <td>5.883610e+07</td>\n",
       "      <td>1.0</td>\n",
       "      <td>0.0</td>\n",
       "      <td>0.0</td>\n",
       "      <td>7322.859743</td>\n",
       "      <td>6.321571</td>\n",
       "      <td>14.655126</td>\n",
       "      <td>394.074345</td>\n",
       "      <td>202.637150</td>\n",
       "      <td>...</td>\n",
       "      <td>1.946960</td>\n",
       "      <td>1.936307</td>\n",
       "      <td>1.933866</td>\n",
       "      <td>1.962716</td>\n",
       "      <td>1.966045</td>\n",
       "      <td>2.017088</td>\n",
       "      <td>1.933644</td>\n",
       "      <td>1.889481</td>\n",
       "      <td>1.036396</td>\n",
       "      <td>1.063915</td>\n",
       "    </tr>\n",
       "    <tr>\n",
       "      <th>std</th>\n",
       "      <td>18.880068</td>\n",
       "      <td>5.319096e+08</td>\n",
       "      <td>0.0</td>\n",
       "      <td>0.0</td>\n",
       "      <td>0.0</td>\n",
       "      <td>621.039504</td>\n",
       "      <td>7.010616</td>\n",
       "      <td>17.682174</td>\n",
       "      <td>268.063011</td>\n",
       "      <td>208.053071</td>\n",
       "      <td>...</td>\n",
       "      <td>1.420503</td>\n",
       "      <td>1.379791</td>\n",
       "      <td>1.412509</td>\n",
       "      <td>1.426539</td>\n",
       "      <td>1.409954</td>\n",
       "      <td>1.419985</td>\n",
       "      <td>1.387046</td>\n",
       "      <td>1.441494</td>\n",
       "      <td>0.837526</td>\n",
       "      <td>0.829478</td>\n",
       "    </tr>\n",
       "    <tr>\n",
       "      <th>min</th>\n",
       "      <td>63.000000</td>\n",
       "      <td>1.769688e+01</td>\n",
       "      <td>1.0</td>\n",
       "      <td>0.0</td>\n",
       "      <td>0.0</td>\n",
       "      <td>4.000000</td>\n",
       "      <td>1.000000</td>\n",
       "      <td>1.000000</td>\n",
       "      <td>4.000000</td>\n",
       "      <td>1.000000</td>\n",
       "      <td>...</td>\n",
       "      <td>0.000000</td>\n",
       "      <td>0.000000</td>\n",
       "      <td>0.000000</td>\n",
       "      <td>0.000000</td>\n",
       "      <td>0.000000</td>\n",
       "      <td>0.000000</td>\n",
       "      <td>0.000000</td>\n",
       "      <td>0.000000</td>\n",
       "      <td>0.000000</td>\n",
       "      <td>0.000000</td>\n",
       "    </tr>\n",
       "    <tr>\n",
       "      <th>25%</th>\n",
       "      <td>94.000000</td>\n",
       "      <td>7.029971e+06</td>\n",
       "      <td>1.0</td>\n",
       "      <td>0.0</td>\n",
       "      <td>0.0</td>\n",
       "      <td>7138.000000</td>\n",
       "      <td>2.000000</td>\n",
       "      <td>4.000000</td>\n",
       "      <td>210.000000</td>\n",
       "      <td>20.000000</td>\n",
       "      <td>...</td>\n",
       "      <td>1.000000</td>\n",
       "      <td>1.000000</td>\n",
       "      <td>1.000000</td>\n",
       "      <td>1.000000</td>\n",
       "      <td>1.000000</td>\n",
       "      <td>1.000000</td>\n",
       "      <td>1.000000</td>\n",
       "      <td>1.000000</td>\n",
       "      <td>0.000000</td>\n",
       "      <td>0.000000</td>\n",
       "    </tr>\n",
       "    <tr>\n",
       "      <th>50%</th>\n",
       "      <td>104.000000</td>\n",
       "      <td>2.174321e+07</td>\n",
       "      <td>1.0</td>\n",
       "      <td>0.0</td>\n",
       "      <td>0.0</td>\n",
       "      <td>7138.000000</td>\n",
       "      <td>4.000000</td>\n",
       "      <td>9.000000</td>\n",
       "      <td>335.500000</td>\n",
       "      <td>124.000000</td>\n",
       "      <td>...</td>\n",
       "      <td>2.000000</td>\n",
       "      <td>2.000000</td>\n",
       "      <td>2.000000</td>\n",
       "      <td>2.000000</td>\n",
       "      <td>2.000000</td>\n",
       "      <td>2.000000</td>\n",
       "      <td>2.000000</td>\n",
       "      <td>2.000000</td>\n",
       "      <td>1.000000</td>\n",
       "      <td>1.000000</td>\n",
       "    </tr>\n",
       "    <tr>\n",
       "      <th>75%</th>\n",
       "      <td>116.000000</td>\n",
       "      <td>4.775461e+07</td>\n",
       "      <td>1.0</td>\n",
       "      <td>0.0</td>\n",
       "      <td>0.0</td>\n",
       "      <td>7314.000000</td>\n",
       "      <td>8.000000</td>\n",
       "      <td>19.000000</td>\n",
       "      <td>512.000000</td>\n",
       "      <td>383.000000</td>\n",
       "      <td>...</td>\n",
       "      <td>3.000000</td>\n",
       "      <td>3.000000</td>\n",
       "      <td>3.000000</td>\n",
       "      <td>3.000000</td>\n",
       "      <td>3.000000</td>\n",
       "      <td>3.000000</td>\n",
       "      <td>3.000000</td>\n",
       "      <td>3.000000</td>\n",
       "      <td>2.000000</td>\n",
       "      <td>2.000000</td>\n",
       "    </tr>\n",
       "    <tr>\n",
       "      <th>max</th>\n",
       "      <td>272.000000</td>\n",
       "      <td>2.949480e+10</td>\n",
       "      <td>1.0</td>\n",
       "      <td>0.0</td>\n",
       "      <td>0.0</td>\n",
       "      <td>10001.000000</td>\n",
       "      <td>121.000000</td>\n",
       "      <td>226.000000</td>\n",
       "      <td>2607.000000</td>\n",
       "      <td>1109.000000</td>\n",
       "      <td>...</td>\n",
       "      <td>4.000000</td>\n",
       "      <td>4.000000</td>\n",
       "      <td>4.000000</td>\n",
       "      <td>4.000000</td>\n",
       "      <td>4.000000</td>\n",
       "      <td>4.000000</td>\n",
       "      <td>4.000000</td>\n",
       "      <td>4.000000</td>\n",
       "      <td>2.000000</td>\n",
       "      <td>2.000000</td>\n",
       "    </tr>\n",
       "  </tbody>\n",
       "</table>\n",
       "<p>8 rows × 51 columns</p>\n",
       "</div>"
      ],
      "text/plain": [
       "           runtime  budget_adjusted     USA      UK  other_countries  \\\n",
       "count  4506.000000     4.506000e+03  4506.0  4506.0           4506.0   \n",
       "mean    107.231913     5.883610e+07     1.0     0.0              0.0   \n",
       "std      18.880068     5.319096e+08     0.0     0.0              0.0   \n",
       "min      63.000000     1.769688e+01     1.0     0.0              0.0   \n",
       "25%      94.000000     7.029971e+06     1.0     0.0              0.0   \n",
       "50%     104.000000     2.174321e+07     1.0     0.0              0.0   \n",
       "75%     116.000000     4.775461e+07     1.0     0.0              0.0   \n",
       "max     272.000000     2.949480e+10     1.0     0.0              0.0   \n",
       "\n",
       "       language_count  director_count  writer_count   cast_count  \\\n",
       "count     4506.000000     4506.000000   4506.000000  4506.000000   \n",
       "mean      7322.859743        6.321571     14.655126   394.074345   \n",
       "std        621.039504        7.010616     17.682174   268.063011   \n",
       "min          4.000000        1.000000      1.000000     4.000000   \n",
       "25%       7138.000000        2.000000      4.000000   210.000000   \n",
       "50%       7138.000000        4.000000      9.000000   335.500000   \n",
       "75%       7314.000000        8.000000     19.000000   512.000000   \n",
       "max      10001.000000      121.000000    226.000000  2607.000000   \n",
       "\n",
       "       production company_count  ...  US Real GDP 2  US Real GDP 1  \\\n",
       "count               4506.000000  ...    4506.000000    4506.000000   \n",
       "mean                 202.637150  ...       1.946960       1.936307   \n",
       "std                  208.053071  ...       1.420503       1.379791   \n",
       "min                    1.000000  ...       0.000000       0.000000   \n",
       "25%                   20.000000  ...       1.000000       1.000000   \n",
       "50%                  124.000000  ...       2.000000       2.000000   \n",
       "75%                  383.000000  ...       3.000000       3.000000   \n",
       "max                 1109.000000  ...       4.000000       4.000000   \n",
       "\n",
       "       US Real GDP: Personal Consumption Expenditures  \\\n",
       "count                                     4506.000000   \n",
       "mean                                         1.933866   \n",
       "std                                          1.412509   \n",
       "min                                          0.000000   \n",
       "25%                                          1.000000   \n",
       "50%                                          2.000000   \n",
       "75%                                          3.000000   \n",
       "max                                          4.000000   \n",
       "\n",
       "       US Nominal GDP: Gross Domestic Product  \\\n",
       "count                             4506.000000   \n",
       "mean                                 1.962716   \n",
       "std                                  1.426539   \n",
       "min                                  0.000000   \n",
       "25%                                  1.000000   \n",
       "50%                                  2.000000   \n",
       "75%                                  3.000000   \n",
       "max                                  4.000000   \n",
       "\n",
       "       US Nominal GDP: Personal Consumption Expenditures  House_Price_Index  \\\n",
       "count                                        4506.000000        4506.000000   \n",
       "mean                                            1.966045           2.017088   \n",
       "std                                             1.409954           1.419985   \n",
       "min                                             0.000000           0.000000   \n",
       "25%                                             1.000000           1.000000   \n",
       "50%                                             2.000000           2.000000   \n",
       "75%                                             3.000000           3.000000   \n",
       "max                                             4.000000           4.000000   \n",
       "\n",
       "       Gini: Gini Coefficient  World CPI 2  rev_ppi_log  budget_ppi_log  \n",
       "count             4506.000000  4506.000000  4506.000000     4506.000000  \n",
       "mean                 1.933644     1.889481     1.036396        1.063915  \n",
       "std                  1.387046     1.441494     0.837526        0.829478  \n",
       "min                  0.000000     0.000000     0.000000        0.000000  \n",
       "25%                  1.000000     1.000000     0.000000        0.000000  \n",
       "50%                  2.000000     2.000000     1.000000        1.000000  \n",
       "75%                  3.000000     3.000000     2.000000        2.000000  \n",
       "max                  4.000000     4.000000     2.000000        2.000000  \n",
       "\n",
       "[8 rows x 51 columns]"
      ]
     },
     "execution_count": 244,
     "metadata": {},
     "output_type": "execute_result"
    }
   ],
   "source": [
    "x_train=x_train.reset_index()\n",
    "del x_train['index']\n",
    "x_train.describe()"
   ]
  },
  {
   "cell_type": "code",
   "execution_count": 199,
   "metadata": {
    "scrolled": true
   },
   "outputs": [
    {
     "data": {
      "text/html": [
       "<div>\n",
       "<style scoped>\n",
       "    .dataframe tbody tr th:only-of-type {\n",
       "        vertical-align: middle;\n",
       "    }\n",
       "\n",
       "    .dataframe tbody tr th {\n",
       "        vertical-align: top;\n",
       "    }\n",
       "\n",
       "    .dataframe thead th {\n",
       "        text-align: right;\n",
       "    }\n",
       "</style>\n",
       "<table border=\"1\" class=\"dataframe\">\n",
       "  <thead>\n",
       "    <tr style=\"text-align: right;\">\n",
       "      <th></th>\n",
       "      <th>gross_usa_adjusted_level</th>\n",
       "    </tr>\n",
       "  </thead>\n",
       "  <tbody>\n",
       "    <tr>\n",
       "      <th>0</th>\n",
       "      <td>2</td>\n",
       "    </tr>\n",
       "    <tr>\n",
       "      <th>1</th>\n",
       "      <td>2</td>\n",
       "    </tr>\n",
       "    <tr>\n",
       "      <th>2</th>\n",
       "      <td>1</td>\n",
       "    </tr>\n",
       "    <tr>\n",
       "      <th>3</th>\n",
       "      <td>2</td>\n",
       "    </tr>\n",
       "    <tr>\n",
       "      <th>4</th>\n",
       "      <td>3</td>\n",
       "    </tr>\n",
       "  </tbody>\n",
       "</table>\n",
       "</div>"
      ],
      "text/plain": [
       "   gross_usa_adjusted_level\n",
       "0                         2\n",
       "1                         2\n",
       "2                         1\n",
       "3                         2\n",
       "4                         3"
      ]
     },
     "execution_count": 199,
     "metadata": {},
     "output_type": "execute_result"
    }
   ],
   "source": [
    "y_train=y_train.reset_index()\n",
    "del y_train['index']\n",
    "y_train.head()"
   ]
  },
  {
   "cell_type": "code",
   "execution_count": 200,
   "metadata": {},
   "outputs": [
    {
     "data": {
      "text/html": [
       "<div>\n",
       "<style scoped>\n",
       "    .dataframe tbody tr th:only-of-type {\n",
       "        vertical-align: middle;\n",
       "    }\n",
       "\n",
       "    .dataframe tbody tr th {\n",
       "        vertical-align: top;\n",
       "    }\n",
       "\n",
       "    .dataframe thead th {\n",
       "        text-align: right;\n",
       "    }\n",
       "</style>\n",
       "<table border=\"1\" class=\"dataframe\">\n",
       "  <thead>\n",
       "    <tr style=\"text-align: right;\">\n",
       "      <th></th>\n",
       "      <th>runtime</th>\n",
       "      <th>budget_adjusted</th>\n",
       "      <th>USA</th>\n",
       "      <th>UK</th>\n",
       "      <th>other_countries</th>\n",
       "      <th>language_count</th>\n",
       "      <th>director_count</th>\n",
       "      <th>writer_count</th>\n",
       "      <th>cast_count</th>\n",
       "      <th>production company_count</th>\n",
       "      <th>...</th>\n",
       "      <th>US Real GDP 2</th>\n",
       "      <th>US Real GDP 1</th>\n",
       "      <th>US Real GDP: Personal Consumption Expenditures</th>\n",
       "      <th>US Nominal GDP: Gross Domestic Product</th>\n",
       "      <th>US Nominal GDP: Personal Consumption Expenditures</th>\n",
       "      <th>House_Price_Index</th>\n",
       "      <th>Gini: Gini Coefficient</th>\n",
       "      <th>World CPI 2</th>\n",
       "      <th>rev_ppi_log</th>\n",
       "      <th>budget_ppi_log</th>\n",
       "    </tr>\n",
       "  </thead>\n",
       "  <tbody>\n",
       "    <tr>\n",
       "      <th>0</th>\n",
       "      <td>123</td>\n",
       "      <td>2.927729e+06</td>\n",
       "      <td>1</td>\n",
       "      <td>0</td>\n",
       "      <td>0</td>\n",
       "      <td>7138</td>\n",
       "      <td>1</td>\n",
       "      <td>2</td>\n",
       "      <td>233</td>\n",
       "      <td>388</td>\n",
       "      <td>...</td>\n",
       "      <td>4.0</td>\n",
       "      <td>3.0</td>\n",
       "      <td>3.0</td>\n",
       "      <td>3.0</td>\n",
       "      <td>3.0</td>\n",
       "      <td>3.0</td>\n",
       "      <td>4.0</td>\n",
       "      <td>0.0</td>\n",
       "      <td>0.0</td>\n",
       "      <td>0.0</td>\n",
       "    </tr>\n",
       "    <tr>\n",
       "      <th>1</th>\n",
       "      <td>110</td>\n",
       "      <td>1.760792e+07</td>\n",
       "      <td>1</td>\n",
       "      <td>0</td>\n",
       "      <td>0</td>\n",
       "      <td>7138</td>\n",
       "      <td>2</td>\n",
       "      <td>4</td>\n",
       "      <td>367</td>\n",
       "      <td>100</td>\n",
       "      <td>...</td>\n",
       "      <td>0.0</td>\n",
       "      <td>0.0</td>\n",
       "      <td>0.0</td>\n",
       "      <td>0.0</td>\n",
       "      <td>0.0</td>\n",
       "      <td>3.0</td>\n",
       "      <td>2.0</td>\n",
       "      <td>0.0</td>\n",
       "      <td>2.0</td>\n",
       "      <td>1.0</td>\n",
       "    </tr>\n",
       "    <tr>\n",
       "      <th>2</th>\n",
       "      <td>96</td>\n",
       "      <td>2.687274e+07</td>\n",
       "      <td>1</td>\n",
       "      <td>0</td>\n",
       "      <td>0</td>\n",
       "      <td>7138</td>\n",
       "      <td>11</td>\n",
       "      <td>24</td>\n",
       "      <td>306</td>\n",
       "      <td>667</td>\n",
       "      <td>...</td>\n",
       "      <td>3.0</td>\n",
       "      <td>4.0</td>\n",
       "      <td>3.0</td>\n",
       "      <td>4.0</td>\n",
       "      <td>3.0</td>\n",
       "      <td>0.0</td>\n",
       "      <td>0.0</td>\n",
       "      <td>4.0</td>\n",
       "      <td>2.0</td>\n",
       "      <td>1.0</td>\n",
       "    </tr>\n",
       "    <tr>\n",
       "      <th>3</th>\n",
       "      <td>95</td>\n",
       "      <td>1.725157e+06</td>\n",
       "      <td>1</td>\n",
       "      <td>0</td>\n",
       "      <td>0</td>\n",
       "      <td>7138</td>\n",
       "      <td>1</td>\n",
       "      <td>16</td>\n",
       "      <td>139</td>\n",
       "      <td>9</td>\n",
       "      <td>...</td>\n",
       "      <td>2.0</td>\n",
       "      <td>2.0</td>\n",
       "      <td>1.0</td>\n",
       "      <td>3.0</td>\n",
       "      <td>1.0</td>\n",
       "      <td>4.0</td>\n",
       "      <td>4.0</td>\n",
       "      <td>0.0</td>\n",
       "      <td>0.0</td>\n",
       "      <td>0.0</td>\n",
       "    </tr>\n",
       "    <tr>\n",
       "      <th>4</th>\n",
       "      <td>112</td>\n",
       "      <td>7.394891e+07</td>\n",
       "      <td>1</td>\n",
       "      <td>0</td>\n",
       "      <td>0</td>\n",
       "      <td>8784</td>\n",
       "      <td>1</td>\n",
       "      <td>24</td>\n",
       "      <td>403</td>\n",
       "      <td>446</td>\n",
       "      <td>...</td>\n",
       "      <td>0.0</td>\n",
       "      <td>0.0</td>\n",
       "      <td>0.0</td>\n",
       "      <td>0.0</td>\n",
       "      <td>0.0</td>\n",
       "      <td>4.0</td>\n",
       "      <td>2.0</td>\n",
       "      <td>3.0</td>\n",
       "      <td>2.0</td>\n",
       "      <td>2.0</td>\n",
       "    </tr>\n",
       "  </tbody>\n",
       "</table>\n",
       "<p>5 rows × 51 columns</p>\n",
       "</div>"
      ],
      "text/plain": [
       "   runtime  budget_adjusted  USA  UK  other_countries  language_count  \\\n",
       "0      123     2.927729e+06    1   0                0            7138   \n",
       "1      110     1.760792e+07    1   0                0            7138   \n",
       "2       96     2.687274e+07    1   0                0            7138   \n",
       "3       95     1.725157e+06    1   0                0            7138   \n",
       "4      112     7.394891e+07    1   0                0            8784   \n",
       "\n",
       "   director_count  writer_count  cast_count  production company_count  ...  \\\n",
       "0               1             2         233                       388  ...   \n",
       "1               2             4         367                       100  ...   \n",
       "2              11            24         306                       667  ...   \n",
       "3               1            16         139                         9  ...   \n",
       "4               1            24         403                       446  ...   \n",
       "\n",
       "   US Real GDP 2  US Real GDP 1  \\\n",
       "0            4.0            3.0   \n",
       "1            0.0            0.0   \n",
       "2            3.0            4.0   \n",
       "3            2.0            2.0   \n",
       "4            0.0            0.0   \n",
       "\n",
       "   US Real GDP: Personal Consumption Expenditures  \\\n",
       "0                                             3.0   \n",
       "1                                             0.0   \n",
       "2                                             3.0   \n",
       "3                                             1.0   \n",
       "4                                             0.0   \n",
       "\n",
       "   US Nominal GDP: Gross Domestic Product  \\\n",
       "0                                     3.0   \n",
       "1                                     0.0   \n",
       "2                                     4.0   \n",
       "3                                     3.0   \n",
       "4                                     0.0   \n",
       "\n",
       "   US Nominal GDP: Personal Consumption Expenditures  House_Price_Index  \\\n",
       "0                                                3.0                3.0   \n",
       "1                                                0.0                3.0   \n",
       "2                                                3.0                0.0   \n",
       "3                                                1.0                4.0   \n",
       "4                                                0.0                4.0   \n",
       "\n",
       "   Gini: Gini Coefficient  World CPI 2  rev_ppi_log  budget_ppi_log  \n",
       "0                     4.0          0.0          0.0             0.0  \n",
       "1                     2.0          0.0          2.0             1.0  \n",
       "2                     0.0          4.0          2.0             1.0  \n",
       "3                     4.0          0.0          0.0             0.0  \n",
       "4                     2.0          3.0          2.0             2.0  \n",
       "\n",
       "[5 rows x 51 columns]"
      ]
     },
     "execution_count": 200,
     "metadata": {},
     "output_type": "execute_result"
    }
   ],
   "source": [
    "x_test=x_test.reset_index()\n",
    "del x_test['index']\n",
    "x_test.head()"
   ]
  },
  {
   "cell_type": "code",
   "execution_count": 201,
   "metadata": {
    "scrolled": false
   },
   "outputs": [
    {
     "data": {
      "text/html": [
       "<div>\n",
       "<style scoped>\n",
       "    .dataframe tbody tr th:only-of-type {\n",
       "        vertical-align: middle;\n",
       "    }\n",
       "\n",
       "    .dataframe tbody tr th {\n",
       "        vertical-align: top;\n",
       "    }\n",
       "\n",
       "    .dataframe thead th {\n",
       "        text-align: right;\n",
       "    }\n",
       "</style>\n",
       "<table border=\"1\" class=\"dataframe\">\n",
       "  <thead>\n",
       "    <tr style=\"text-align: right;\">\n",
       "      <th></th>\n",
       "      <th>gross_usa_adjusted_level</th>\n",
       "    </tr>\n",
       "  </thead>\n",
       "  <tbody>\n",
       "    <tr>\n",
       "      <th>0</th>\n",
       "      <td>1</td>\n",
       "    </tr>\n",
       "    <tr>\n",
       "      <th>1</th>\n",
       "      <td>1</td>\n",
       "    </tr>\n",
       "    <tr>\n",
       "      <th>2</th>\n",
       "      <td>2</td>\n",
       "    </tr>\n",
       "    <tr>\n",
       "      <th>3</th>\n",
       "      <td>2</td>\n",
       "    </tr>\n",
       "    <tr>\n",
       "      <th>4</th>\n",
       "      <td>2</td>\n",
       "    </tr>\n",
       "  </tbody>\n",
       "</table>\n",
       "</div>"
      ],
      "text/plain": [
       "   gross_usa_adjusted_level\n",
       "0                         1\n",
       "1                         1\n",
       "2                         2\n",
       "3                         2\n",
       "4                         2"
      ]
     },
     "execution_count": 201,
     "metadata": {},
     "output_type": "execute_result"
    }
   ],
   "source": [
    "y_test=y_test.reset_index()\n",
    "del y_test['index']\n",
    "y_test.head()"
   ]
  },
  {
   "cell_type": "markdown",
   "metadata": {},
   "source": [
    "<h1> Decision Tree (classification)"
   ]
  },
  {
   "cell_type": "markdown",
   "metadata": {},
   "source": [
    "<li>Since we divided our movies into only three groups, Decision Tree Regressor perform poorly in our case. Instead, Decision Tree Classifier is used to achieve classification"
   ]
  },
  {
   "cell_type": "code",
   "execution_count": 203,
   "metadata": {
    "scrolled": true
   },
   "outputs": [
    {
     "data": {
      "text/plain": [
       "DecisionTreeClassifier(class_weight=None, criterion='entropy', max_depth=4,\n",
       "                       max_features=None, max_leaf_nodes=None,\n",
       "                       min_impurity_decrease=0.0, min_impurity_split=None,\n",
       "                       min_samples_leaf=1, min_samples_split=2,\n",
       "                       min_weight_fraction_leaf=0.0, presort=False,\n",
       "                       random_state=None, splitter='best')"
      ]
     },
     "execution_count": 203,
     "metadata": {},
     "output_type": "execute_result"
    }
   ],
   "source": [
    "from sklearn.tree import DecisionTreeClassifier\n",
    "from sklearn import tree\n",
    "\n",
    "model = tree.DecisionTreeClassifier(max_depth=4,criterion='entropy')\n",
    "model.fit(x_train,y_train)"
   ]
  },
  {
   "cell_type": "markdown",
   "metadata": {},
   "source": [
    "### complex matrix"
   ]
  },
  {
   "cell_type": "code",
   "execution_count": 205,
   "metadata": {
    "scrolled": true
   },
   "outputs": [
    {
     "name": "stdout",
     "output_type": "stream",
     "text": [
      "[[ 672  262   63]\n",
      " [ 291  793  420]\n",
      " [  70  603 1332]]\n",
      "[[183  64  14]\n",
      " [ 78 200  87]\n",
      " [ 16 140 345]]\n"
     ]
    }
   ],
   "source": [
    "from sklearn.metrics import confusion_matrix\n",
    "p_train = model.predict(x_train)\n",
    "p_test = model.predict(x_test)\n",
    "print(confusion_matrix(p_train,np.array(y_train)))\n",
    "print(confusion_matrix(p_test,np.array(y_test)))"
   ]
  },
  {
   "cell_type": "code",
   "execution_count": 237,
   "metadata": {
    "scrolled": true
   },
   "outputs": [
    {
     "name": "stdout",
     "output_type": "stream",
     "text": [
      "Confusion matrix, without normalization\n",
      "[[157  98  22]\n",
      " [100 187 117]\n",
      " [ 43 160 243]]\n",
      "Normalized confusion matrix\n",
      "[[0.57 0.35 0.08]\n",
      " [0.25 0.46 0.29]\n",
      " [0.1  0.36 0.54]]\n"
     ]
    },
    {
     "data": {
      "image/png": "[encoded data removed]",
      "text/plain": [
       "<Figure size 432x288 with 2 Axes>"
      ]
     },
     "metadata": {
      "needs_background": "light"
     },
     "output_type": "display_data"
    },
    {
     "data": {
      "image/png": "[encoded data removed]",
      "text/plain": [
       "<Figure size 432x288 with 2 Axes>"
      ]
     },
     "metadata": {
      "needs_background": "light"
     },
     "output_type": "display_data"
    }
   ],
   "source": [
    "import itertools\n",
    "import matplotlib.pyplot as plt\n",
    "\n",
    "def plot_confusion_matrix(cm, classes,\n",
    "                          normalize=False,\n",
    "                          title='Confusion matrix',\n",
    "                          cmap=plt.cm.Blues):\n",
    "    \"\"\"\n",
    "    This function prints and plots the confusion matrix.\n",
    "    Normalization can be applied by setting `normalize=True`.\n",
    "    \"\"\"\n",
    "    if normalize:\n",
    "        cm = cm.astype('float') / cm.sum(axis=1)[:, np.newaxis]\n",
    "        print(\"Normalized confusion matrix\")\n",
    "    else:\n",
    "        print('Confusion matrix, without normalization')\n",
    "\n",
    "    print(cm)\n",
    "\n",
    "    plt.imshow(cm, cmap=cmap,aspect='equal')\n",
    "    plt.title(title)\n",
    "    plt.colorbar()\n",
    "    tick_marks = np.arange(len(classes))\n",
    "    plt.xticks(tick_marks, classes, rotation=0)\n",
    "    plt.yticks(tick_marks, classes)\n",
    "    plt.ylim(-0.5, 2.5)\n",
    "\n",
    "    fmt = '.2f' if normalize else 'd'\n",
    "    thresh = cm.max() / 2.\n",
    "    for i, j in itertools.product(range(cm.shape[0]), range(cm.shape[1])):\n",
    "        plt.text(j, i, format(cm[i, j], fmt),\n",
    "                horizontalalignment=\"center\",\n",
    "                 color=\"white\" if cm[i, j] > thresh else \"black\")\n",
    "\n",
    "    plt.ylabel('True label')\n",
    "    plt.xlabel('Predicted label')\n",
    "    plt.tight_layout()\n",
    "\n",
    "\n",
    "class_names = ['0','1','2']\n",
    "# Compute confusion matrix\n",
    "cnf_matrix = confusion_matrix(np.array(y_test), p_test)\n",
    "np.set_printoptions(precision=2)\n",
    "\n",
    "# Plot non-normalized confusion matrix\n",
    "plt.figure()\n",
    "plot_confusion_matrix(cnf_matrix, classes=class_names,\n",
    "                      title='Confusion matrix, without normalization (test set)')\n",
    "\n",
    "# Plot normalized confusion matrix\n",
    "plt.figure()\n",
    "plot_confusion_matrix(cnf_matrix, classes=class_names, normalize=True,\n",
    "                      title='Normalized confusion matrix (test set)')\n",
    "\n",
    "plt.show()"
   ]
  },
  {
   "cell_type": "code",
   "execution_count": 207,
   "metadata": {
    "scrolled": true
   },
   "outputs": [
    {
     "name": "stdout",
     "output_type": "stream",
     "text": [
      "Confusion matrix, without normalization\n",
      "[[ 672  291   70]\n",
      " [ 262  793  603]\n",
      " [  63  420 1332]]\n",
      "Normalized confusion matrix\n",
      "[[0.65 0.28 0.07]\n",
      " [0.16 0.48 0.36]\n",
      " [0.03 0.23 0.73]]\n"
     ]
    },
    {
     "data": {
      "image/png": "[encoded data removed]",
      "text/plain": [
       "<Figure size 432x288 with 2 Axes>"
      ]
     },
     "metadata": {
      "needs_background": "light"
     },
     "output_type": "display_data"
    },
    {
     "data": {
      "image/png": "[encoded data removed]",
      "text/plain": [
       "<Figure size 432x288 with 2 Axes>"
      ]
     },
     "metadata": {
      "needs_background": "light"
     },
     "output_type": "display_data"
    }
   ],
   "source": [
    "class_names = ['0','1','2']\n",
    "# Compute confusion matrix\n",
    "cnf_matrix = confusion_matrix(np.array(y_train), p_train)\n",
    "np.set_printoptions(precision=2)\n",
    "\n",
    "# Plot non-normalized confusion matrix\n",
    "plt.figure()\n",
    "plot_confusion_matrix(cnf_matrix, classes=class_names,\n",
    "                      title='Confusion matrix, without normalization (train set)')\n",
    "\n",
    "# Plot normalized confusion matrix\n",
    "plt.figure()\n",
    "plot_confusion_matrix(cnf_matrix, classes=class_names, normalize=True,\n",
    "                      title='Normalized confusion matrix (train set)')\n",
    "\n",
    "plt.show()"
   ]
  },
  {
   "cell_type": "markdown",
   "metadata": {},
   "source": [
    "### Accuracy"
   ]
  },
  {
   "cell_type": "code",
   "execution_count": 208,
   "metadata": {},
   "outputs": [
    {
     "name": "stdout",
     "output_type": "stream",
     "text": [
      "Test_Accuracy: 0.6459627329192547\n",
      "Train_Accuracy: 0.6207279183311141\n"
     ]
    }
   ],
   "source": [
    " from sklearn.metrics import accuracy_score\n",
    "print(\"Test_Accuracy:\",accuracy_score(y_test, p_test))\n",
    "print(\"Train_Accuracy:\",accuracy_score(y_train, p_train))"
   ]
  },
  {
   "cell_type": "markdown",
   "metadata": {},
   "source": [
    "<h1>Random Forest"
   ]
  },
  {
   "cell_type": "markdown",
   "metadata": {},
   "source": [
    "<li> Random Forest model is used for comparison. We have defined 10 trees in our random forest and used entropy as the criterion. "
   ]
  },
  {
   "cell_type": "code",
   "execution_count": 209,
   "metadata": {
    "scrolled": true
   },
   "outputs": [
    {
     "name": "stdout",
     "output_type": "stream",
     "text": [
      "Libraries Imported\n"
     ]
    }
   ],
   "source": [
    "#Importing Libraries\n",
    "import numpy as np\n",
    "import pandas as pd\n",
    "from sklearn.model_selection import train_test_split\n",
    "from sklearn.preprocessing import StandardScaler\n",
    "from sklearn.ensemble import RandomForestClassifier\n",
    "from sklearn.metrics import confusion_matrix\n",
    "from sklearn.externals import joblib\n",
    "print('Libraries Imported')"
   ]
  },
  {
   "cell_type": "code",
   "execution_count": 136,
   "metadata": {},
   "outputs": [],
   "source": [
    "# This is a very important step in machine learning. It helps the algorithm quickly learn a better solution to the problem.\n",
    "\n",
    "# We will use a standard scaler provided in the sklearn library. It subtracts the mean value of the observation and then divides it by the unit variance of the observation.\n",
    "# We will perform the following steps:\n",
    "    \n",
    "scaler = StandardScaler()\n",
    "x_train = scaler.fit_transform(x_train)\n",
    "x_test = scaler.transform(x_test)"
   ]
  },
  {
   "cell_type": "code",
   "execution_count": 210,
   "metadata": {},
   "outputs": [
    {
     "name": "stderr",
     "output_type": "stream",
     "text": [
      "C:\\Users\\Administrator\\Anaconda3\\lib\\site-packages\\ipykernel_launcher.py:6: DataConversionWarning: A column-vector y was passed when a 1d array was expected. Please change the shape of y to (n_samples,), for example using ravel().\n",
      "  \n"
     ]
    },
    {
     "data": {
      "text/plain": [
       "RandomForestClassifier(bootstrap=True, class_weight=None, criterion='entropy',\n",
       "                       max_depth=None, max_features='auto', max_leaf_nodes=None,\n",
       "                       min_impurity_decrease=0.0, min_impurity_split=None,\n",
       "                       min_samples_leaf=1, min_samples_split=2,\n",
       "                       min_weight_fraction_leaf=0.0, n_estimators=10,\n",
       "                       n_jobs=None, oob_score=False, random_state=42, verbose=0,\n",
       "                       warm_start=False)"
      ]
     },
     "execution_count": 210,
     "metadata": {},
     "output_type": "execute_result"
    }
   ],
   "source": [
    "# Fitting Random Forest Classification to the Training set\n",
    "# n_estimators: This is the number of trees in the random forest classification. We have defined 10 trees in our random forest.\n",
    "# criterion: This is the loss function used to measure the quality of the split. There are two available options in sklearn — gini and entropy. We have used entropy.\n",
    "# random_state: This is the seed used by the random state generator for randomizing the dataset.\n",
    "classifier = RandomForestClassifier(n_estimators = 10, criterion = 'entropy', random_state = 42)\n",
    "classifier.fit(x_train, y_train)"
   ]
  },
  {
   "cell_type": "code",
   "execution_count": 211,
   "metadata": {},
   "outputs": [],
   "source": [
    "# Predicting the Test set results\n",
    "p_test = classifier.predict(x_test)\n",
    "p_train = classifier.predict(x_train)"
   ]
  },
  {
   "cell_type": "code",
   "execution_count": 212,
   "metadata": {},
   "outputs": [],
   "source": [
    "y_test = np.array(y_test['gross_usa_adjusted_level'])"
   ]
  },
  {
   "cell_type": "markdown",
   "metadata": {},
   "source": [
    "### complex matrix"
   ]
  },
  {
   "cell_type": "code",
   "execution_count": 219,
   "metadata": {
    "scrolled": true
   },
   "outputs": [
    {
     "name": "stdout",
     "output_type": "stream",
     "text": [
      "Confusion matrix, without normalization\n",
      "[[182  80  15]\n",
      " [ 71 220 113]\n",
      " [ 22 122 302]]\n",
      "Normalized confusion matrix\n",
      "[[0.66 0.29 0.05]\n",
      " [0.18 0.54 0.28]\n",
      " [0.05 0.27 0.68]]\n"
     ]
    },
    {
     "data": {
      "image/png": "[encoded data removed]",
      "text/plain": [
       "<Figure size 432x288 with 2 Axes>"
      ]
     },
     "metadata": {
      "needs_background": "light"
     },
     "output_type": "display_data"
    },
    {
     "data": {
      "image/png": "[encoded data removed]",
      "text/plain": [
       "<Figure size 432x288 with 2 Axes>"
      ]
     },
     "metadata": {
      "needs_background": "light"
     },
     "output_type": "display_data"
    }
   ],
   "source": [
    "\n",
    "# Compute confusion matrix\n",
    "cnf_matrix = confusion_matrix(y_test, p_test)\n",
    "np.set_printoptions(precision=2)\n",
    "\n",
    "# Plot non-normalized confusion matrix\n",
    "plt.figure()\n",
    "plot_confusion_matrix(cnf_matrix, classes=class_names,\n",
    "                      title='Confusion matrix, without normalization (test set)')\n",
    "\n",
    "# Plot normalized confusion matrix\n",
    "plt.figure()\n",
    "plot_confusion_matrix(cnf_matrix, classes=class_names, normalize=True,\n",
    "                      title='Normalized confusion matrix (test set)')\n",
    "\n",
    "plt.show()"
   ]
  },
  {
   "cell_type": "code",
   "execution_count": 220,
   "metadata": {
    "scrolled": true
   },
   "outputs": [
    {
     "name": "stdout",
     "output_type": "stream",
     "text": [
      "Confusion matrix, without normalization\n",
      "[[1025    7    1]\n",
      " [  10 1640    8]\n",
      " [   3   12 1800]]\n",
      "Normalized confusion matrix\n",
      "[[9.92e-01 6.78e-03 9.68e-04]\n",
      " [6.03e-03 9.89e-01 4.83e-03]\n",
      " [1.65e-03 6.61e-03 9.92e-01]]\n"
     ]
    },
    {
     "data": {
      "image/png": "[encoded data removed]",
      "text/plain": [
       "<Figure size 432x288 with 2 Axes>"
      ]
     },
     "metadata": {
      "needs_background": "light"
     },
     "output_type": "display_data"
    },
    {
     "data": {
      "image/png": "[encoded data removed]",
      "text/plain": [
       "<Figure size 432x288 with 2 Axes>"
      ]
     },
     "metadata": {
      "needs_background": "light"
     },
     "output_type": "display_data"
    }
   ],
   "source": [
    "# Compute confusion matrix\n",
    "cnf_matrix = confusion_matrix(y_train, p_train)\n",
    "np.set_printoptions(precision=2)\n",
    "\n",
    "# Plot non-normalized confusion matrix\n",
    "plt.figure()\n",
    "plot_confusion_matrix(cnf_matrix, classes=class_names,\n",
    "                      title='Confusion matrix, without normalization (train set)')\n",
    "\n",
    "# Plot normalized confusion matrix\n",
    "plt.figure()\n",
    "plot_confusion_matrix(cnf_matrix, classes=class_names, normalize=True,\n",
    "                      title='Normalized confusion matrix (train set)')\n",
    "\n",
    "plt.show()"
   ]
  },
  {
   "cell_type": "markdown",
   "metadata": {},
   "source": [
    "### accuracy"
   ]
  },
  {
   "cell_type": "code",
   "execution_count": 215,
   "metadata": {},
   "outputs": [
    {
     "name": "stdout",
     "output_type": "stream",
     "text": [
      "Test_Accuracy: 0.6246672582076309\n",
      "Train_Accuracy: 0.9909010208610741\n"
     ]
    }
   ],
   "source": [
    "print(\"Test_Accuracy:\",accuracy_score(y_test, p_test))\n",
    "print(\"Train_Accuracy:\",accuracy_score(y_train, p_train))"
   ]
  },
  {
   "cell_type": "markdown",
   "metadata": {},
   "source": [
    "### F score"
   ]
  },
  {
   "cell_type": "code",
   "execution_count": 216,
   "metadata": {
    "scrolled": false
   },
   "outputs": [
    {
     "name": "stdout",
     "output_type": "stream",
     "text": [
      "              precision    recall  f1-score   support\n",
      "\n",
      "           0       0.66      0.66      0.66       277\n",
      "           1       0.52      0.54      0.53       404\n",
      "           2       0.70      0.68      0.69       446\n",
      "\n",
      "    accuracy                           0.62      1127\n",
      "   macro avg       0.63      0.63      0.63      1127\n",
      "weighted avg       0.63      0.62      0.63      1127\n",
      "\n"
     ]
    }
   ],
   "source": [
    "from sklearn.metrics import classification_report\n",
    "print(classification_report(y_test, p_test, target_names=class_names))"
   ]
  },
  {
   "cell_type": "markdown",
   "metadata": {},
   "source": [
    "### Feature Importance Analysis"
   ]
  },
  {
   "cell_type": "code",
   "execution_count": 222,
   "metadata": {},
   "outputs": [
    {
     "data": {
      "text/plain": [
       "array([0.  , 0.  , 0.  , 0.  , 0.  , 0.  , 0.16, 0.16, 0.05, 0.62, 0.  ,\n",
       "       0.01, 0.  , 0.  , 0.  , 0.  , 0.  , 0.  , 0.  , 0.  , 0.  , 0.  ,\n",
       "       0.  , 0.  , 0.  , 0.  , 0.  , 0.  , 0.  , 0.  , 0.  , 0.  , 0.  ,\n",
       "       0.  , 0.  , 0.  , 0.  , 0.  , 0.  , 0.  , 0.  , 0.  , 0.  , 0.  ,\n",
       "       0.  , 0.  , 0.  , 0.  , 0.  , 0.  , 0.  ])"
      ]
     },
     "execution_count": 222,
     "metadata": {},
     "output_type": "execute_result"
    }
   ],
   "source": [
    "model.feature_importances_"
   ]
  },
  {
   "cell_type": "code",
   "execution_count": 221,
   "metadata": {},
   "outputs": [
    {
     "data": {
      "text/plain": [
       "Text(0.5, 0, 'Relative Importance')"
      ]
     },
     "execution_count": 221,
     "metadata": {},
     "output_type": "execute_result"
    },
    {
     "data": {
      "image/png": "[encoded data removed]",
      "text/plain": [
       "<Figure size 864x864 with 1 Axes>"
      ]
     },
     "metadata": {
      "needs_background": "light"
     },
     "output_type": "display_data"
    }
   ],
   "source": [
    "import matplotlib.pyplot as plt\n",
    "%matplotlib inline\n",
    "importances = model.feature_importances_\n",
    "indices = np.argsort(importances)\n",
    "plt.figure(figsize=(12,12))\n",
    "plt.title('Feature Importances')\n",
    "plt.barh(range(len(indices)), importances[indices], color='b', align='center')\n",
    "plt.yticks(range(len(indices)),indices)\n",
    "plt.xlabel('Relative Importance')"
   ]
  },
  {
   "cell_type": "markdown",
   "metadata": {},
   "source": [
    "<h1>KNN classifier"
   ]
  },
  {
   "cell_type": "markdown",
   "metadata": {},
   "source": [
    "<li>KNN model is used for comparison. The number of neighbors in our model is 7. "
   ]
  },
  {
   "cell_type": "code",
   "execution_count": 225,
   "metadata": {},
   "outputs": [],
   "source": [
    "#Import knearest neighbors Classifier model\n",
    "from sklearn.neighbors import KNeighborsClassifier"
   ]
  },
  {
   "cell_type": "code",
   "execution_count": 226,
   "metadata": {},
   "outputs": [],
   "source": [
    "scaler = StandardScaler()\n",
    "x_train = scaler.fit_transform(x_train)\n",
    "x_test = scaler.transform(x_test)"
   ]
  },
  {
   "cell_type": "code",
   "execution_count": 227,
   "metadata": {},
   "outputs": [],
   "source": [
    "#Create KNN Classifier\n",
    "knn = KNeighborsClassifier(n_neighbors=7)"
   ]
  },
  {
   "cell_type": "code",
   "execution_count": 228,
   "metadata": {},
   "outputs": [
    {
     "name": "stderr",
     "output_type": "stream",
     "text": [
      "C:\\Users\\Administrator\\Anaconda3\\lib\\site-packages\\ipykernel_launcher.py:2: DataConversionWarning: A column-vector y was passed when a 1d array was expected. Please change the shape of y to (n_samples, ), for example using ravel().\n",
      "  \n"
     ]
    },
    {
     "data": {
      "text/plain": [
       "KNeighborsClassifier(algorithm='auto', leaf_size=30, metric='minkowski',\n",
       "                     metric_params=None, n_jobs=None, n_neighbors=7, p=2,\n",
       "                     weights='uniform')"
      ]
     },
     "execution_count": 228,
     "metadata": {},
     "output_type": "execute_result"
    }
   ],
   "source": [
    "#Train the model using the training sets\n",
    "knn.fit(x_train, y_train)"
   ]
  },
  {
   "cell_type": "code",
   "execution_count": 229,
   "metadata": {},
   "outputs": [],
   "source": [
    "#Predict the response for test dataset\n",
    "p_test = knn.predict(x_test)\n",
    "p_train = knn.predict(x_train)"
   ]
  },
  {
   "cell_type": "markdown",
   "metadata": {},
   "source": [
    "### complex matrix"
   ]
  },
  {
   "cell_type": "code",
   "execution_count": 234,
   "metadata": {},
   "outputs": [
    {
     "name": "stdout",
     "output_type": "stream",
     "text": [
      "Confusion matrix, without normalization\n",
      "[[157  98  22]\n",
      " [100 187 117]\n",
      " [ 43 160 243]]\n",
      "Normalized confusion matrix\n",
      "[[0.57 0.35 0.08]\n",
      " [0.25 0.46 0.29]\n",
      " [0.1  0.36 0.54]]\n"
     ]
    },
    {
     "data": {
      "image/png": "[encoded data removed]",
      "text/plain": [
       "<Figure size 432x288 with 2 Axes>"
      ]
     },
     "metadata": {
      "needs_background": "light"
     },
     "output_type": "display_data"
    },
    {
     "data": {
      "image/png": "[encoded data removed]",
      "text/plain": [
       "<Figure size 432x288 with 2 Axes>"
      ]
     },
     "metadata": {
      "needs_background": "light"
     },
     "output_type": "display_data"
    }
   ],
   "source": [
    "\n",
    "# Compute confusion matrix\n",
    "cnf_matrix = confusion_matrix(y_test, p_test)\n",
    "np.set_printoptions(precision=2)\n",
    "\n",
    "# Plot non-normalized confusion matrix\n",
    "plt.figure()\n",
    "plot_confusion_matrix(cnf_matrix, classes=class_names,\n",
    "                      title='Confusion matrix, without normalization (test set)')\n",
    "\n",
    "# Plot normalized confusion matrix\n",
    "plt.figure()\n",
    "plot_confusion_matrix(cnf_matrix, classes=class_names, normalize=True,\n",
    "                      title='Normalized confusion matrix (test set)')\n",
    "\n",
    "plt.show()"
   ]
  },
  {
   "cell_type": "code",
   "execution_count": 235,
   "metadata": {},
   "outputs": [
    {
     "name": "stdout",
     "output_type": "stream",
     "text": [
      "Confusion matrix, without normalization\n",
      "[[ 716  240   77]\n",
      " [ 320 1038  300]\n",
      " [ 164  493 1158]]\n",
      "Normalized confusion matrix\n",
      "[[0.69 0.23 0.07]\n",
      " [0.19 0.63 0.18]\n",
      " [0.09 0.27 0.64]]\n"
     ]
    },
    {
     "data": {
      "image/png": "[encoded data removed]",
      "text/plain": [
       "<Figure size 432x288 with 2 Axes>"
      ]
     },
     "metadata": {
      "needs_background": "light"
     },
     "output_type": "display_data"
    },
    {
     "data": {
      "image/png": "[encoded data removed]",
      "text/plain": [
       "<Figure size 432x288 with 2 Axes>"
      ]
     },
     "metadata": {
      "needs_background": "light"
     },
     "output_type": "display_data"
    }
   ],
   "source": [
    "\n",
    "class_names = ['0','1','2']\n",
    "# Compute confusion matrix\n",
    "cnf_matrix = confusion_matrix(y_train, p_train)\n",
    "np.set_printoptions(precision=2)\n",
    "\n",
    "# Plot non-normalized confusion matrix\n",
    "plt.figure()\n",
    "plot_confusion_matrix(cnf_matrix, classes=class_names,\n",
    "                      title='Confusion matrix, without normalization (train set)')\n",
    "\n",
    "# Plot normalized confusion matrix\n",
    "plt.figure()\n",
    "plot_confusion_matrix(cnf_matrix, classes=class_names, normalize=True,\n",
    "                      title='Normalized confusion matrix (train set)')\n",
    "\n",
    "plt.show()"
   ]
  },
  {
   "cell_type": "markdown",
   "metadata": {},
   "source": [
    "### accuracy"
   ]
  },
  {
   "cell_type": "code",
   "execution_count": 236,
   "metadata": {},
   "outputs": [
    {
     "name": "stdout",
     "output_type": "stream",
     "text": [
      "Test_Accuracy: 0.520851818988465\n",
      "Train_Accuracy: 0.6462494451841988\n"
     ]
    }
   ],
   "source": [
    "print(\"Test_Accuracy:\",accuracy_score(y_test, p_test))\n",
    "print(\"Train_Accuracy:\",accuracy_score(y_train, p_train))"
   ]
  },
  {
   "cell_type": "markdown",
   "metadata": {},
   "source": [
    "### F score"
   ]
  },
  {
   "cell_type": "code",
   "execution_count": 233,
   "metadata": {},
   "outputs": [
    {
     "name": "stdout",
     "output_type": "stream",
     "text": [
      "              precision    recall  f1-score   support\n",
      "\n",
      "           0       0.52      0.57      0.54       277\n",
      "           1       0.42      0.46      0.44       404\n",
      "           2       0.64      0.54      0.59       446\n",
      "\n",
      "    accuracy                           0.52      1127\n",
      "   macro avg       0.53      0.52      0.52      1127\n",
      "weighted avg       0.53      0.52      0.52      1127\n",
      "\n"
     ]
    }
   ],
   "source": [
    "from sklearn.metrics import classification_report\n",
    "print(classification_report(y_test, p_test, target_names=class_names))"
   ]
  },
  {
   "cell_type": "code",
   "execution_count": null,
   "metadata": {},
   "outputs": [],
   "source": []
  },
  {
   "cell_type": "code",
   "execution_count": null,
   "metadata": {},
   "outputs": [],
   "source": []
  }
 ],
 "metadata": {
  "kernelspec": {
   "display_name": "Python 3",
   "language": "python",
   "name": "python3"
  },
  "language_info": {
   "codemirror_mode": {
    "name": "ipython",
    "version": 3
   },
   "file_extension": ".py",
   "mimetype": "text/x-python",
   "name": "python",
   "nbconvert_exporter": "python",
   "pygments_lexer": "ipython3",
   "version": "3.7.3"
  }
 },
 "nbformat": 4,
 "nbformat_minor": 2
}
